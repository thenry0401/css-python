{
 "cells": [
  {
   "cell_type": "code",
   "execution_count": 1,
   "metadata": {
    "collapsed": true,
    "deletable": true,
    "editable": true
   },
   "outputs": [],
   "source": [
    "#0 ~ 100,000,000까지 더하는 프로그램\n",
    "#1. for 문 금지\n",
    "#2. recursion: 안통함 터짐\n",
    "#3. 등차수열"
   ]
  },
  {
   "cell_type": "code",
   "execution_count": null,
   "metadata": {
    "collapsed": true,
    "deletable": true,
    "editable": true
   },
   "outputs": [],
   "source": []
  },
  {
   "cell_type": "code",
   "execution_count": 2,
   "metadata": {
    "collapsed": true,
    "deletable": true,
    "editable": true
   },
   "outputs": [],
   "source": [
    "#하노이 타워\n",
    "# 작은 원반 위에 큰 원반이 올수없다.\n",
    "\n",
    "#1개 일때 1번움직임\n",
    "#2개일때 작은거 2번, 큰거 1번\n",
    "#3개일때 작은거 4번, 중간 2번, 큰거 1번\n"
   ]
  },
  {
   "cell_type": "code",
   "execution_count": 3,
   "metadata": {
    "collapsed": false,
    "deletable": true,
    "editable": true
   },
   "outputs": [],
   "source": [
    "def hanoi(n, _from, _by, _to):\n",
    "    if n == 1:\n",
    "        print(\"{}에서 {}로 {}번째 쟁반 이동\".format(_from, _to, n))\n",
    "        return\n",
    "    \n",
    "    hanoi(n-1, _from, _to, _by)\n",
    "    print(\"{}에서 {}로 {}번째 쟁반 이동\".format(_from, _to, n))\n",
    "    \n",
    "    hanoi(n-1, _by, _from, _to)"
   ]
  },
  {
   "cell_type": "code",
   "execution_count": 6,
   "metadata": {
    "collapsed": false,
    "deletable": true,
    "editable": true
   },
   "outputs": [
    {
     "name": "stdout",
     "output_type": "stream",
     "text": [
      "a에서 b로 1번째 쟁반 이동\n",
      "a에서 c로 2번째 쟁반 이동\n",
      "b에서 c로 1번째 쟁반 이동\n"
     ]
    }
   ],
   "source": [
    "hanoi(2, 'a', 'b', 'c')"
   ]
  },
  {
   "cell_type": "code",
   "execution_count": 7,
   "metadata": {
    "collapsed": false,
    "deletable": true,
    "editable": true
   },
   "outputs": [],
   "source": [
    "def hanoi(n, _from, _by, _to):\n",
    "    if n == 1:\n",
    "        print(\"{}에서 {}로 {}번째 쟁반 이동\".format(_from, _to, n))\n",
    "        return\n",
    "    \n",
    "    hanoi(n-1, _from, _to, _by)\n",
    "    print(\"{}에서 {}로 {}번쨰 쟁반 이동\".format(_from, _to, n))\n",
    "    \n",
    "    hanoi(n-1, _by, _from, _to)"
   ]
  },
  {
   "cell_type": "code",
   "execution_count": null,
   "metadata": {
    "collapsed": true
   },
   "outputs": [],
   "source": []
  }
 ],
 "metadata": {
  "kernelspec": {
   "display_name": "Python 3",
   "language": "python",
   "name": "python3"
  },
  "language_info": {
   "codemirror_mode": {
    "name": "ipython",
    "version": 3
   },
   "file_extension": ".py",
   "mimetype": "text/x-python",
   "name": "python",
   "nbconvert_exporter": "python",
   "pygments_lexer": "ipython3",
   "version": "3.6.0"
  }
 },
 "nbformat": 4,
 "nbformat_minor": 2
}
