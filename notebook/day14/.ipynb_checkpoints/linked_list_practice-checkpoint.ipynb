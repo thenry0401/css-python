{
 "cells": [
  {
   "cell_type": "code",
   "execution_count": 18,
   "metadata": {
    "collapsed": true,
    "deletable": true,
    "editable": true
   },
   "outputs": [],
   "source": [
    "class Node:\n",
    "    \n",
    "    def __init__(self, data):\n",
    "        self.data = data\n",
    "        self.next = None\n",
    "        \n",
    "class LinkedList:\n",
    "    def __init__(self):\n",
    "        dummy = Node(\"dummy\")\n",
    "        self.head = dummy\n",
    "        self.tail = dummy\n",
    "        \n",
    "        self.current = None\n",
    "        self.before = None\n",
    "        \n",
    "        self.num_of_data = 0\n",
    "        \n",
    "    def append(self, data):\n",
    "        new_node = Node(data)\n",
    "        self.tail.next = new_node\n",
    "        self.tail = new_node\n",
    "        \n",
    "        self.num_of_data += 1\n",
    "        \n",
    "    def first(self):\n",
    "        if not self.num_of_data:\n",
    "            return None\n",
    "        \n",
    "        self.before = self.head\n",
    "        self.current = self.head.next\n",
    "        \n",
    "        return self.current.data\n",
    "    \n",
    "    def next(self):\n",
    "        if not self.current.next:\n",
    "            return None\n",
    "        \n",
    "        self.before = self.current\n",
    "        self.current = self.current.next\n",
    "        \n",
    "        return self.current.data\n",
    "    \n",
    "    def delete(self):\n",
    "        ret_data = self.current.data\n",
    "        \n",
    "        if not self.current.next:\n",
    "            self.tail = self.before\n",
    "        \n",
    "        self.before.next = self.current.next\n",
    "        self.current = self.before\n",
    "        \n",
    "        self.num_of_data -= 1\n",
    "        \n",
    "        return ret_data\n",
    "    \n",
    "    def size(self):\n",
    "        return self.num_of_data\n",
    "        "
   ]
  },
  {
   "cell_type": "code",
   "execution_count": 19,
   "metadata": {
    "collapsed": false,
    "deletable": true,
    "editable": true
   },
   "outputs": [
    {
     "name": "stdout",
     "output_type": "stream",
     "text": [
      "첫 번째 데이터: 1\n",
      "첫 삭제 후 데이터: 1\n",
      "두 번째 삭제 후 데이터: dummy\n"
     ]
    }
   ],
   "source": [
    "d_list = LinkedList()\n",
    "\n",
    "d_list.append(1)\n",
    "d_list.append(2)\n",
    "\n",
    "data = d_list.first()\n",
    "print(\"첫 번째 데이터: {}\".format(data))\n",
    "\n",
    "data = d_list.delete()\n",
    "print(\"첫 삭제 후 데이터: {}\".format(data))\n",
    "\n",
    "data = d_list.delete()\n",
    "print(\"두 번째 삭제 후 데이터: {}\".format(data))"
   ]
  },
  {
   "cell_type": "code",
   "execution_count": 9,
   "metadata": {
    "collapsed": true
   },
   "outputs": [],
   "source": []
  },
  {
   "cell_type": "code",
   "execution_count": null,
   "metadata": {
    "collapsed": true
   },
   "outputs": [],
   "source": []
  },
  {
   "cell_type": "code",
   "execution_count": 9,
   "metadata": {
    "collapsed": false,
    "deletable": true,
    "editable": true
   },
   "outputs": [
    {
     "name": "stdout",
     "output_type": "stream",
     "text": [
      "the number of data: 8\n",
      "2 "
     ]
    }
   ],
   "source": [
    "d_list.append(2)\n",
    "d_list.append(3)\n",
    "d_list.append(1)\n",
    "d_list.append(5)\n",
    "d_list.append(2)\n",
    "d_list.append(10)\n",
    "d_list.append(7)\n",
    "d_list.append(2)\n",
    "\n",
    "data = d_list.first()\n",
    "\n",
    "print(\"the number of data: {}\".format(d_list.size()))\n",
    "if data: \n",
    "    print(data, end = ' ')\n",
    "else:\n",
    "    print(\"there is no data\")"
   ]
  },
  {
   "cell_type": "code",
   "execution_count": 10,
   "metadata": {
    "collapsed": false,
    "deletable": true,
    "editable": true
   },
   "outputs": [
    {
     "name": "stdout",
     "output_type": "stream",
     "text": [
      "3 "
     ]
    }
   ],
   "source": [
    "data = d_list.next()\n",
    "if data:\n",
    "    print(data, end = ' ')\n",
    "else:\n",
    "    print(\"there is no data\")"
   ]
  },
  {
   "cell_type": "code",
   "execution_count": 11,
   "metadata": {
    "collapsed": false,
    "deletable": true,
    "editable": true
   },
   "outputs": [
    {
     "name": "stdout",
     "output_type": "stream",
     "text": [
      "2 3 1 5 2 10 7 2 "
     ]
    }
   ],
   "source": [
    "data = d_list.first()\n",
    "if data:\n",
    "    print(data, end = ' ')\n",
    "    while True:\n",
    "        data = d_list.next()\n",
    "        if data:\n",
    "            print(data, end = ' ')\n",
    "        else: \n",
    "            break"
   ]
  },
  {
   "cell_type": "code",
   "execution_count": null,
   "metadata": {
    "collapsed": true,
    "deletable": true,
    "editable": true
   },
   "outputs": [],
   "source": []
  }
 ],
 "metadata": {
  "kernelspec": {
   "display_name": "Python 3",
   "language": "python",
   "name": "python3"
  },
  "language_info": {
   "codemirror_mode": {
    "name": "ipython",
    "version": 3
   },
   "file_extension": ".py",
   "mimetype": "text/x-python",
   "name": "python",
   "nbconvert_exporter": "python",
   "pygments_lexer": "ipython3",
   "version": "3.6.0"
  }
 },
 "nbformat": 4,
 "nbformat_minor": 2
}
