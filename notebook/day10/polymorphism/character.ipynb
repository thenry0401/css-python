{
 "cells": [
  {
   "cell_type": "code",
   "execution_count": null,
   "metadata": {
    "collapsed": true
   },
   "outputs": [],
   "source": [
    "# abstract_class : 객체를 만들 수 없는 클래스\n",
    "#                  기본 클래스, 부모 클래스의 역할을 한다\n",
    "#                  게임으로 따지면, 여러 캐릭터들이 공통적으로 가지는 속성 그 밑으로 상속받아서 여러 캐릭터를 만듬\n",
    "\n",
    "\n",
    "from abc import * # abstract base class\n",
    "\n",
    "class Character(metaclass = ABCMeta):\n",
    "    def __init__(self):\n",
    "        self.hp = 100\n",
    "        self.attack_power = 20\n",
    "        \n",
    "    def attack(self, other, attack_kind):\n",
    "        other.get_damaged(self.attack_power, attack_kind)\n",
    "        \n",
    "    @abstractmethod    # 앱스트랙트메소드를 쓰면: 이 클래스는 객체를 생성할순없지만, 이 클래스를 상속받는 클래스들은 이 밑의 메소드들을 구현해야한다는 뜻\n",
    "    def get_damaged(self, attack_power, attack_kind):\n",
    "        pass\n",
    "        \n",
    "    \n"
   ]
  }
 ],
 "metadata": {
  "kernelspec": {
   "display_name": "Python 3",
   "language": "python",
   "name": "python3"
  },
  "language_info": {
   "codemirror_mode": {
    "name": "ipython",
    "version": 3
   },
   "file_extension": ".py",
   "mimetype": "text/x-python",
   "name": "python",
   "nbconvert_exporter": "python",
   "pygments_lexer": "ipython3",
   "version": "3.6.0"
  }
 },
 "nbformat": 4,
 "nbformat_minor": 2
}
