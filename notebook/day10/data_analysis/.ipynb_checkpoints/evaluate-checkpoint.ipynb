{
 "cells": [
  {
   "cell_type": "code",
   "execution_count": 5,
   "metadata": {
    "collapsed": false
   },
   "outputs": [
    {
     "data": {
      "text/plain": [
       "16.666666666666668"
      ]
     },
     "execution_count": 5,
     "metadata": {},
     "output_type": "execute_result"
    }
   ],
   "source": [
    "from functools import reduce\n",
    "\n",
    "class Evaluate:\n",
    "    def average(self, scores):\n",
    "        return reduce(lambda a, b: a + b, scores)/len(scores)\n",
    "\n",
    "    def variance(self, scores, avrg):\n",
    "        return reduce(lambda a, b: a + b, map(lambda s:(s-avrg)**2, scores))/len(scores)\n",
    "\n",
    "if __name__ == \"__main__\":\n",
    "    e = Evaluate()\n",
    "    li = [100, 95, 90]\n",
    "\n",
    "result1 = e.average(li)\n",
    "result1\n",
    "result2 = e.variance(li, result1)\n",
    "result2"
   ]
  },
  {
   "cell_type": "code",
   "execution_count": null,
   "metadata": {
    "collapsed": true
   },
   "outputs": [],
   "source": []
  }
 ],
 "metadata": {
  "kernelspec": {
   "display_name": "Python 3",
   "language": "python",
   "name": "python3"
  },
  "language_info": {
   "codemirror_mode": {
    "name": "ipython",
    "version": 3
   },
   "file_extension": ".py",
   "mimetype": "text/x-python",
   "name": "python",
   "nbconvert_exporter": "python",
   "pygments_lexer": "ipython3",
   "version": "3.6.0"
  }
 },
 "nbformat": 4,
 "nbformat_minor": 2
}
