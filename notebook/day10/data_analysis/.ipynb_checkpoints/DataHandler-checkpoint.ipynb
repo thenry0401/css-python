{
 "cells": [
  {
   "cell_type": "code",
   "execution_count": 1,
   "metadata": {
    "collapsed": false,
    "deletable": true,
    "editable": true
   },
   "outputs": [],
   "source": [
    "from evaluate import Evaluate\n",
    "import pickle\n",
    "import math\n",
    "\n",
    "class DataHandler:\n",
    "    #클래스 멤버: 연산기 하나\n",
    "    evaluator = Evaluate()\n",
    "        \n",
    "    #class method : 전역함수처럼 쓸 수 있다\n",
    "    @classmethod\n",
    "    def GetRawdataInDic(cls, filename):\n",
    "        rawdata = {}\n",
    "        with open(filename, 'rb') as f:\n",
    "            while 1:\n",
    "                try:\n",
    "                    data = pickle.load(f)\n",
    "                except EOFError:\n",
    "                    break\n",
    "            \n",
    "                rawdata.update(data)\n",
    "              \n",
    "        return rawdata\n",
    "    \n",
    "    def __init__(self, filename, clsname):\n",
    "        self.rawdata = DataHandler.GetRawdataInDic(filename)\n",
    "        self.clsname = clsname\n",
    "        \n",
    "        #연산한 값을 저장해두는 저장소\n",
    "        #필요할 떄 연산하되, 이미 연산된 값이면 연산없이 저장된 값을 반환\n",
    "        self.cache = {}\n",
    "        \n",
    "    def get_scores(self):\n",
    "        if 'scores' not in self.cache:\n",
    "            self.cache['scores'] = list(self.rawdata.values())\n",
    "        return self.cache.get('scores')\n",
    "        \n",
    "    #cache    \n",
    "    def get_average(self):\n",
    "        if 'average' not in self.cache:\n",
    "            self.cache['average'] = self.evaluator.average(self.get_scores())\n",
    "        return self.cache.get('average')\n",
    "    \n",
    "    def get_variance(self):\n",
    "        if 'variace' not in self.cache:\n",
    "            vari = round(self.evaluator.variance(self.get_scores(), self.get_average()))\n",
    "            self.cache['variance'] = vari\n",
    "        return self.cache.get('variance')\n",
    "        \n",
    "    def get_standard_deviation(self):\n",
    "        if \"standard_deviation\" not in self.cache:\n",
    "            std_dev = round(math.sqrt(self.get_variance()), 1)\n",
    "            self.cache[\"standard_deviation\"] = std_dev\n",
    "            return self.cache.get(\"standard_deviation\")\n",
    "\n",
    "\n",
    "    def WhoIsHighest(self):\n",
    "        if 'highest' not in self.cache:\n",
    "            self.cache['highest'] = reduce(lambda a ,b:\n",
    "                                           a if self.rawdata.get(a) > self.rawdata.get(b) else b,\n",
    "                                           self.rawdata.keys()\n",
    "                                           )\n",
    "        return self.cache.get('highest')\n",
    "        \n",
    "    def GetHighestScore(self):\n",
    "        return self.rawdata[self.WhoIsHighest()]\n",
    "        \n",
    "    def WhoIsLowest(self):\n",
    "        if \"lowest\" not in self.cache:\n",
    "            self.cache['lowest'] = reduce(lambda a, b:\n",
    "                                          a if self.rawdata.get(a) < self.rawdata.get(b) else b,\n",
    "                                          self.rawdata.keys()\n",
    "                                          )\n",
    "        return self.cache.get('lowest')\n",
    "        \n",
    "    def GetLowestScore(self):\n",
    "        return self.rawdata[self.WhoIsLowest()]\n",
    "\n",
    "\n",
    "\n",
    "\n",
    "    \n",
    "    \n",
    "    def get_evaluation(self):\n",
    "        print('*' * 50)\n",
    "        print(\"%s 반 성적 분석 결과\" % self.clsname)\n",
    "        print(\"{0}반의 평균은 {1}점이고 분산은 {2}이며,따라서 표준편차는{3}이다\".\\\n",
    "              format(self.clsname, self.get_average(), self.get_variance()\\\n",
    "                     , self.get_standard_deviation()))\n",
    "        print('*' * 50)\n",
    "        print(\"%s 반 종합 평가\" % self.clsname)\n",
    "        print('*' * 50)\n",
    "        self.evaluateClass()\n",
    "\n",
    "    def evaluateclass(self):\n",
    "        avrg = self.get_average()\n",
    "        std_dev = self.get_standard_deviation()\n",
    "        \n",
    "        if avrg <50 and std_dev >20:\n",
    "            print(\"성적이 너무 저조하고 학생들의 실력 차이가 너무 크다.\")\n",
    "        elif avrg > 50 and std_dev >20:\n",
    "            print(\"성적은 평균이상이지만 학생들 실력 차이가 크다. 주의 요망!\")\n",
    "        elif avrg < 50 and std_dev <20:\n",
    "            print(\"학생들간 실력차는 나지 않으나 성적이 너무 저조하다. 주의 요망!\")\n",
    "        elif avrg > 50 and std_dev <20:\n",
    "            print(\"성적도 평균 이상이고 학생들의 실력차도 크지 않다.\")"
   ]
  },
  {
   "cell_type": "code",
   "execution_count": 2,
   "metadata": {
    "collapsed": false,
    "deletable": true,
    "editable": true
   },
   "outputs": [
    {
     "data": {
      "text/plain": [
       "{'anna': 20,\n",
       " 'elen': 25,\n",
       " 'greg': 95,\n",
       " 'john': 25,\n",
       " 'mark': 80,\n",
       " 'melisa': 100,\n",
       " 'steve': 95,\n",
       " 'thor': 10,\n",
       " 'timothy': 15,\n",
       " 'yang': 50}"
      ]
     },
     "execution_count": 2,
     "metadata": {},
     "output_type": "execute_result"
    }
   ],
   "source": [
    "DataHandler.GetRawdataInDic(\"class_A.bin\")"
   ]
  },
  {
   "cell_type": "code",
   "execution_count": 3,
   "metadata": {
    "collapsed": false,
    "deletable": true,
    "editable": true
   },
   "outputs": [
    {
     "data": {
      "text/plain": [
       "51.5"
      ]
     },
     "execution_count": 3,
     "metadata": {},
     "output_type": "execute_result"
    }
   ],
   "source": [
    "dh = DataHandler(\"class_A.bin\", '2-3')\n",
    "avrg = dh.get_average()\n",
    "avrg"
   ]
  },
  {
   "cell_type": "code",
   "execution_count": null,
   "metadata": {
    "collapsed": true,
    "deletable": true,
    "editable": true
   },
   "outputs": [],
   "source": []
  },
  {
   "cell_type": "code",
   "execution_count": null,
   "metadata": {
    "collapsed": true,
    "deletable": true,
    "editable": true
   },
   "outputs": [],
   "source": []
  }
 ],
 "metadata": {
  "kernelspec": {
   "display_name": "Python 3",
   "language": "python",
   "name": "python3"
  },
  "language_info": {
   "codemirror_mode": {
    "name": "ipython",
    "version": 3
   },
   "file_extension": ".py",
   "mimetype": "text/x-python",
   "name": "python",
   "nbconvert_exporter": "python",
   "pygments_lexer": "ipython3",
   "version": "3.6.0"
  }
 },
 "nbformat": 4,
 "nbformat_minor": 2
}
