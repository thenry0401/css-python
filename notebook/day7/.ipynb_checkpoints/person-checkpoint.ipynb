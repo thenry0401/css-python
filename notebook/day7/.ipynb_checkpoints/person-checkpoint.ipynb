{
 "cells": [
  {
   "cell_type": "code",
   "execution_count": 21,
   "metadata": {
    "collapsed": true
   },
   "outputs": [],
   "source": [
    "#사람을 세 가지 특징,속성을 가지고서 표현함 = 모델링함\n",
    "#member + method: attribute(속성)\n",
    "\n",
    "class Person:\n",
    "    #member 모든 사람이 가지는 속성중에 데이터를 지칭\n",
    "    def __init__(self, name, age, money):\n",
    "        self.name = name\n",
    "        self.age = age\n",
    "        self.money = money\n",
    "        self.hp = 100\n",
    "        \n",
    "    #method 기능 행동\n",
    "    def givemoney(self, other, money):\n",
    "        self.money -= money\n",
    "        other.money += money\n",
    "    \n",
    "    def under_stress(self, hp):\n",
    "        self.hp -= hp\n",
    "        \n",
    "    def showInfo(self):\n",
    "        print(\"name: {} \\n age: {}\".format(self.money, self.age))\n",
    "        \n",
    "class CD:\n",
    "    def __init__(self, local, capacity):\n",
    "        self.local = local\n",
    "        self.capacity = capacity\n",
    "        \n",
    "    def givemoney(self, person, money):\n",
    "        self.capacity -= money\n",
    "        person.money += money\n",
    "    def showInfo(self):\n",
    "        print(\"cd name {} \\n capacity: {}\".format(self.local, self.capacity))"
   ]
  },
  {
   "cell_type": "code",
   "execution_count": 22,
   "metadata": {
    "collapsed": false
   },
   "outputs": [],
   "source": [
    "person_1 = Person(\"Greg\", 18, 5000)\n",
    "person_2 = Person(\"Matt\", 25, 1000)\n",
    "\n",
    "#파이썬은 정보은닉이 안된다.\n",
    "#클래스 안에 있는 정보 값을 바꿀려면 클래스안에 값을 바꾼다는 함수를 만들고나서\n",
    "#값을 바꾸는것은 좋다\n",
    "#그러나 파이썬은 정보은닉이 안되기 떄문에 그냥 클래스안의 값을 바꿀수가있다\n",
    "#클래스를 쓰는데 안좋은 방법이다(다른 언어에서는 오류가 뜨게됨 정보은닉 때문에)"
   ]
  },
  {
   "cell_type": "code",
   "execution_count": 23,
   "metadata": {
    "collapsed": false
   },
   "outputs": [],
   "source": [
    "#interaction between instances = message passing"
   ]
  },
  {
   "cell_type": "code",
   "execution_count": 24,
   "metadata": {
    "collapsed": false
   },
   "outputs": [],
   "source": [
    "person_1.givemoney(person_2, 1000)"
   ]
  },
  {
   "cell_type": "code",
   "execution_count": 25,
   "metadata": {
    "collapsed": false
   },
   "outputs": [
    {
     "name": "stdout",
     "output_type": "stream",
     "text": [
      "name: 4000 \n",
      " age: 18\n",
      "name: 2000 \n",
      " age: 25\n"
     ]
    }
   ],
   "source": [
    "person_1.showInfo()\n",
    "person_2.showInfo()"
   ]
  },
  {
   "cell_type": "code",
   "execution_count": null,
   "metadata": {
    "collapsed": true
   },
   "outputs": [],
   "source": []
  }
 ],
 "metadata": {
  "kernelspec": {
   "display_name": "Python 3",
   "language": "python",
   "name": "python3"
  },
  "language_info": {
   "codemirror_mode": {
    "name": "ipython",
    "version": 3
   },
   "file_extension": ".py",
   "mimetype": "text/x-python",
   "name": "python",
   "nbconvert_exporter": "python",
   "pygments_lexer": "ipython3",
   "version": "3.6.0"
  }
 },
 "nbformat": 4,
 "nbformat_minor": 2
}
