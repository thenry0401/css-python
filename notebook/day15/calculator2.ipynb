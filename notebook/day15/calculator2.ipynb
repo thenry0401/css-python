{
 "cells": [
  {
   "cell_type": "code",
   "execution_count": 3,
   "metadata": {
    "collapsed": false
   },
   "outputs": [
    {
     "name": "stdout",
     "output_type": "stream",
     "text": [
      "숫자를 입력하세요: 2+2\n"
     ]
    },
    {
     "ename": "NameError",
     "evalue": "name 'optr_stack' is not defined",
     "output_type": "error",
     "traceback": [
      "\u001b[0;31m---------------------------------------------------------------------------\u001b[0m",
      "\u001b[0;31mNameError\u001b[0m                                 Traceback (most recent call last)",
      "\u001b[0;32m<ipython-input-3-a8a7e61773b9>\u001b[0m in \u001b[0;36m<module>\u001b[0;34m()\u001b[0m\n\u001b[1;32m     74\u001b[0m     \u001b[0ma\u001b[0m \u001b[0;34m=\u001b[0m \u001b[0minput\u001b[0m\u001b[0;34m(\u001b[0m\u001b[0;34m\"숫자를 입력하세요: \"\u001b[0m\u001b[0;34m)\u001b[0m\u001b[0;34m\u001b[0m\u001b[0m\n\u001b[1;32m     75\u001b[0m     \u001b[0mcalc\u001b[0m \u001b[0;34m=\u001b[0m \u001b[0mCalculator\u001b[0m\u001b[0;34m(\u001b[0m\u001b[0ma\u001b[0m\u001b[0;34m)\u001b[0m\u001b[0;34m\u001b[0m\u001b[0m\n\u001b[0;32m---> 76\u001b[0;31m     \u001b[0mcalc\u001b[0m\u001b[0;34m.\u001b[0m\u001b[0mconvert_to_postfix\u001b[0m\u001b[0;34m(\u001b[0m\u001b[0;34m)\u001b[0m\u001b[0;34m\u001b[0m\u001b[0m\n\u001b[0m\u001b[1;32m     77\u001b[0m     \u001b[0mprint\u001b[0m\u001b[0;34m(\u001b[0m\u001b[0mcalc\u001b[0m\u001b[0;34m.\u001b[0m\u001b[0mpostfix_exp\u001b[0m\u001b[0;34m)\u001b[0m\u001b[0;34m\u001b[0m\u001b[0m\n\u001b[1;32m     78\u001b[0m     \u001b[0mprint\u001b[0m\u001b[0;34m(\u001b[0m\u001b[0mcalc\u001b[0m\u001b[0;34m.\u001b[0m\u001b[0mcalculate\u001b[0m\u001b[0;34m(\u001b[0m\u001b[0;34m)\u001b[0m\u001b[0;34m)\u001b[0m\u001b[0;34m\u001b[0m\u001b[0m\n",
      "\u001b[0;32m<ipython-input-3-a8a7e61773b9>\u001b[0m in \u001b[0;36mconvert_to_postfix\u001b[0;34m(self)\u001b[0m\n\u001b[1;32m     23\u001b[0m                 \u001b[0mexp_list\u001b[0m\u001b[0;34m.\u001b[0m\u001b[0mappend\u001b[0m\u001b[0;34m(\u001b[0m\u001b[0mch\u001b[0m\u001b[0;34m)\u001b[0m\u001b[0;34m\u001b[0m\u001b[0m\n\u001b[1;32m     24\u001b[0m             \u001b[0;32melse\u001b[0m\u001b[0;34m:\u001b[0m\u001b[0;34m\u001b[0m\u001b[0m\n\u001b[0;32m---> 25\u001b[0;31m                 \u001b[0;32mif\u001b[0m \u001b[0mch\u001b[0m \u001b[0;34m==\u001b[0m \u001b[0;34m'('\u001b[0m \u001b[0;32mor\u001b[0m \u001b[0moptr_stack\u001b[0m\u001b[0;34m.\u001b[0m\u001b[0mis_empty\u001b[0m\u001b[0;34m(\u001b[0m\u001b[0;34m)\u001b[0m\u001b[0;34m:\u001b[0m\u001b[0;34m\u001b[0m\u001b[0m\n\u001b[0m\u001b[1;32m     26\u001b[0m                     \u001b[0moprt_stack\u001b[0m\u001b[0;34m.\u001b[0m\u001b[0mpush\u001b[0m\u001b[0;34m(\u001b[0m\u001b[0mch\u001b[0m\u001b[0;34m)\u001b[0m\u001b[0;34m\u001b[0m\u001b[0m\n\u001b[1;32m     27\u001b[0m                 \u001b[0;32melse\u001b[0m\u001b[0;34m:\u001b[0m\u001b[0;34m\u001b[0m\u001b[0m\n",
      "\u001b[0;31mNameError\u001b[0m: name 'optr_stack' is not defined"
     ]
    }
   ],
   "source": [
    "from stack import Stack\n",
    "\n",
    "class Calculator:\n",
    "    def __init__(self, org_exp):\n",
    "        self.org_exp = org_exp.replace(' ', '')\n",
    "        self.postfix_exp = None\n",
    "        \n",
    "    #가중치    \n",
    "    def get_weight(self, oprt):\n",
    "        if oprt == '*' or oprt == '/':\n",
    "            return 9\n",
    "        elif oprt == '+' or oprt == '-':\n",
    "            return 7\n",
    "        elif oprt == '(':\n",
    "            return 5\n",
    "    \n",
    "    def convert_to_postfix(self):\n",
    "        exp_list = []\n",
    "        oprt_stack = Stack()\n",
    "        \n",
    "        for ch in self.org_exp:\n",
    "            if ch.isdigit():\n",
    "                exp_list.append(ch)\n",
    "            else:\n",
    "                if ch == '(' or optr_stack.is_empty():\n",
    "                    oprt_stack.push(ch)\n",
    "                else:\n",
    "                    if ch == ')':\n",
    "                        op = oprt_stack.pop()\n",
    "                        while op != '(':\n",
    "                            exp_list.append(op)\n",
    "                            op = oprt_stack.pop()\n",
    "                    else:\n",
    "                        if self.get_weight(ch) > self.get_weight(oprt_stack.peek()):\n",
    "                            oprt_stack.push(ch)\n",
    "                        else:\n",
    "                            while oprt_stack and self.get_weight(ch) <= self.get_weight(oprt_stack.peek()):\n",
    "                                exp_list.append(oprt_stack.pop())\n",
    "                            oprt_stack.push(ch)\n",
    "        while oprt_stack:\n",
    "            exp_list.append(oprt_stack.pop())\n",
    "        \n",
    "        self.postfix_exp = ''.join(exp_list)                         \n",
    "                    \n",
    "    \n",
    "    def calc_two_oprd(self, oprd1, oprd2, oprt):\n",
    "        if oprt == '+':\n",
    "            return oprd1 + oprd2\n",
    "        elif oprt == '-':\n",
    "            return oprd1 - oprd2\n",
    "        elif oprt == '*':\n",
    "            return oprd1 * oprd2\n",
    "        elif oprt == '/':\n",
    "            return oprd1 // oprd2\n",
    "        \n",
    "    def calculate(self):\n",
    "        oprd_stack = Stack()\n",
    "        for ch in self.postfix_exp:\n",
    "            if ch.isdigit():\n",
    "                oprd_stack.push(int(ch))\n",
    "            else:\n",
    "                oprd2 = oprd_stack.pop()\n",
    "                oprd1 = oprd_stack.pop()\n",
    "                oprd_stack.push(self.calc_two_oprd(oprd1, oprd2, ch))\n",
    "                \n",
    "        return oprd_stack.pop()\n",
    "                \n",
    "\n",
    "        \n",
    "        \n",
    "        \n",
    "        \n",
    "if __name__ == \"__main__\":\n",
    "    a = input(\"숫자를 입력하세요: \")\n",
    "    calc = Calculator(a)\n",
    "    calc.convert_to_postfix()\n",
    "    print(calc.postfix_exp)\n",
    "    print(calc.calculate())\n",
    "    # 답: -28"
   ]
  },
  {
   "cell_type": "code",
   "execution_count": null,
   "metadata": {
    "collapsed": false
   },
   "outputs": [],
   "source": []
  },
  {
   "cell_type": "code",
   "execution_count": null,
   "metadata": {
    "collapsed": true
   },
   "outputs": [],
   "source": []
  }
 ],
 "metadata": {
  "kernelspec": {
   "display_name": "Python 3",
   "language": "python",
   "name": "python3"
  },
  "language_info": {
   "codemirror_mode": {
    "name": "ipython",
    "version": 3
   },
   "file_extension": ".py",
   "mimetype": "text/x-python",
   "name": "python",
   "nbconvert_exporter": "python",
   "pygments_lexer": "ipython3",
   "version": "3.6.0"
  }
 },
 "nbformat": 4,
 "nbformat_minor": 2
}
