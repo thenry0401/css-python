{
 "cells": [
  {
   "cell_type": "code",
   "execution_count": 6,
   "metadata": {
    "collapsed": false,
    "deletable": true,
    "editable": true
   },
   "outputs": [],
   "source": [
    "from stack import Stack\n",
    "\n",
    "class Calculator:\n",
    "    def __init__(self, org_exp):\n",
    "        self.org_exp = org_exp.replace(' ', '')\n",
    "        self.postfix_exp = None\n",
    "        \n",
    "    #가중치    \n",
    "    def get_weight(self, oprt):\n",
    "        if oprt == '*' or oprt == '/':\n",
    "            return 9\n",
    "        elif oprt == '+' or oprt == '-':\n",
    "            return 7\n",
    "        elif oprt == '(':\n",
    "            return 5\n",
    "    \n",
    "    def convert_to_postfix(self):\n",
    "        exp_list = []\n",
    "        oprt_stack = Stack()\n",
    "        \n",
    "        for ch in self.org_exp:\n",
    "            if ch.isdigit():\n",
    "                exp_list.append(ch)\n",
    "            else:\n",
    "                if ch == '(' or oprt_stack.is_empty():\n",
    "                    oprt_stack.push(ch)\n",
    "                elif ch == ')':\n",
    "                    op = oprt_stack.pop()\n",
    "                    while op != '(':\n",
    "                        exp_list.append(op)\n",
    "                        op = oprt_stack.pop()\n",
    "                elif self.get_weight(ch) > self.get_weight(oprt_stack.peek()):\n",
    "                    oprt_stack.push(ch)\n",
    "                elif:\n",
    "                    while oprt_stack and self.get_weight(ch) <= self.get_weight(oprt_stack.peek()):\n",
    "                        exp_list.append(oprt_stack.pop())\n",
    "                    oprt_stack.push(ch)\n",
    "        while oprt_stack:\n",
    "            exp_list.append(oprt_stack.pop())\n",
    "        \n",
    "        self.postfix_exp = ''.join(exp_list)                         \n",
    "                    \n",
    "    \n",
    "    def calc_two_oprd(self, oprd1, oprd2, oprt):\n",
    "        if oprt == '+':\n",
    "            return oprd1 + oprd2\n",
    "        elif oprt == '-':\n",
    "            return oprd1 - oprd2\n",
    "        elif oprt == '*':\n",
    "            return oprd1 * oprd2\n",
    "        elif oprt == '/':\n",
    "            return oprd1 // oprd2\n",
    "        \n",
    "    def calculate(self):\n",
    "        oprd_stack = Stack()\n",
    "        for ch in self.postfix_exp:\n",
    "            if ch.isdigit():\n",
    "                oprd_stack.push(int(ch))\n",
    "            else:\n",
    "                oprd2 = oprd_stack.pop()\n",
    "                oprd1 = oprd_stack.pop()\n",
    "                oprd_stack.push(self.calc_two_oprd(oprd1, oprd2, ch))\n",
    "                \n",
    "        return oprd_stack.pop()\n",
    "                \n",
    "\n",
    "        \n",
    "        \n",
    "        \n",
    "        \n",
    "\n"
   ]
  },
  {
   "cell_type": "code",
   "execution_count": 9,
   "metadata": {
    "collapsed": false,
    "deletable": true,
    "editable": true
   },
   "outputs": [
    {
     "name": "stdout",
     "output_type": "stream",
     "text": [
      "숫자를 입력하세요: 2+2\n",
      "22+\n",
      "4\n"
     ]
    }
   ],
   "source": [
    "if __name__ == \"__main__\":\n",
    "    a = input(\"숫자를 입력하세요: \")\n",
    "    calc = Calculator(a)\n",
    "    calc.convert_to_postfix()\n",
    "    print(calc.postfix_exp)\n",
    "    print(calc.calculate())"
   ]
  },
  {
   "cell_type": "code",
   "execution_count": null,
   "metadata": {
    "collapsed": true,
    "deletable": true,
    "editable": true
   },
   "outputs": [],
   "source": []
  }
 ],
 "metadata": {
  "kernelspec": {
   "display_name": "Python 3",
   "language": "python",
   "name": "python3"
  },
  "language_info": {
   "codemirror_mode": {
    "name": "ipython",
    "version": 3
   },
   "file_extension": ".py",
   "mimetype": "text/x-python",
   "name": "python",
   "nbconvert_exporter": "python",
   "pygments_lexer": "ipython3",
   "version": "3.6.0"
  }
 },
 "nbformat": 4,
 "nbformat_minor": 2
}
