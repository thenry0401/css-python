{
 "cells": [
  {
   "cell_type": "code",
   "execution_count": 12,
   "metadata": {
    "collapsed": false
   },
   "outputs": [
    {
     "ename": "NameError",
     "evalue": "name 'org_exp' is not defined",
     "output_type": "error",
     "traceback": [
      "\u001b[0;31m---------------------------------------------------------------------------\u001b[0m",
      "\u001b[0;31mNameError\u001b[0m                                 Traceback (most recent call last)",
      "\u001b[0;32m<ipython-input-12-091203f24b1f>\u001b[0m in \u001b[0;36m<module>\u001b[0;34m()\u001b[0m\n\u001b[1;32m     72\u001b[0m \u001b[0;34m\u001b[0m\u001b[0m\n\u001b[1;32m     73\u001b[0m \u001b[0;32mif\u001b[0m \u001b[0m__name__\u001b[0m \u001b[0;34m==\u001b[0m \u001b[0;34m\"__main__\"\u001b[0m\u001b[0;34m:\u001b[0m\u001b[0;34m\u001b[0m\u001b[0m\n\u001b[0;32m---> 74\u001b[0;31m     \u001b[0ma\u001b[0m \u001b[0;34m=\u001b[0m \u001b[0morg_exp\u001b[0m\u001b[0;34m(\u001b[0m\u001b[0minput\u001b[0m\u001b[0;34m(\u001b[0m\u001b[0;34m\"숫자를 입력하세요: \"\u001b[0m\u001b[0;34m)\u001b[0m\u001b[0;34m)\u001b[0m\u001b[0;34m\u001b[0m\u001b[0m\n\u001b[0m\u001b[1;32m     75\u001b[0m     \u001b[0mcalc\u001b[0m \u001b[0;34m=\u001b[0m \u001b[0mCalculator\u001b[0m\u001b[0;34m(\u001b[0m\u001b[0ma\u001b[0m\u001b[0;34m)\u001b[0m\u001b[0;34m\u001b[0m\u001b[0m\n\u001b[1;32m     76\u001b[0m     \u001b[0mprint\u001b[0m\u001b[0;34m(\u001b[0m\u001b[0mcalc\u001b[0m\u001b[0;34m.\u001b[0m\u001b[0mcalculate\u001b[0m\u001b[0;34m(\u001b[0m\u001b[0;34m)\u001b[0m\u001b[0;34m)\u001b[0m\u001b[0;34m\u001b[0m\u001b[0m\n",
      "\u001b[0;31mNameError\u001b[0m: name 'org_exp' is not defined"
     ]
    }
   ],
   "source": [
    "from stack import Stack\n",
    "\n",
    "class Calculator:\n",
    "    def __init__(self, org_exp):\n",
    "        self.org_exp = org_exp.replace(' ', '')\n",
    "        self.postfix_exp = None\n",
    "        \n",
    "    #가중치    \n",
    "    def get_weight(self, oprt):\n",
    "        if oprt == '*' or oprt == '/':\n",
    "            return 9\n",
    "        elif oprt == '+' or oprt == '-':\n",
    "            return 7\n",
    "        elif oprt == '(':\n",
    "            return 5\n",
    "    \n",
    "    def convert_to_postfix(self):\n",
    "        exp_list = []\n",
    "        oprt_stack = Stack()\n",
    "        \n",
    "        for ch in self.org_exp:\n",
    "            if ch.isdigit():\n",
    "                exp_list.append(ch)\n",
    "            else:\n",
    "                if ch == '(' or optr_stack.is_empty():\n",
    "                    oprt_stack.push(ch)\n",
    "                else:\n",
    "                    if ch == ')':\n",
    "                        op = oprt_stack.pop()\n",
    "                        while op != '(':\n",
    "                            exp_list.append(op)\n",
    "                            op = oprt_stack.pop()\n",
    "                    else:\n",
    "                        if self.get_weight(ch) > self.get_weight(oprt_stack.peek()):\n",
    "                            oprt_stack.push(ch)\n",
    "                        else:\n",
    "                            while oprt_stack and self.get_weight(ch) <= self.get_weight(oprt_stack.peek()):\n",
    "                                exp_list.append(oprt_stack.pop())\n",
    "                            oprt_stack.push(ch)\n",
    "        while oprt_stack:\n",
    "            exp_list.append(oprt_stack.pop())\n",
    "        \n",
    "        self.postfix_exp = ''.join(exp_list)                         \n",
    "                    \n",
    "    \n",
    "    def calc_two_oprd(self, oprd1, oprd2, oprt):\n",
    "        if oprt == '+':\n",
    "            return oprd1 + oprd2\n",
    "        elif oprt == '-':\n",
    "            return oprd1 - oprd2\n",
    "        elif oprt == '*':\n",
    "            return oprd1 * oprd2\n",
    "        elif oprt == '/':\n",
    "            return oprd1 // oprd2\n",
    "        \n",
    "    def calculate(self):\n",
    "        oprd_stack = Stack()\n",
    "        for ch in self.postfix_exp:\n",
    "            if ch.isdigit():\n",
    "                oprd_stack.push(int(ch))\n",
    "            else:\n",
    "                oprd2 = oprd_stack.pop()\n",
    "                oprd1 = oprd_stack.pop()\n",
    "                oprd_stack.push(self.calc_two_oprd(oprd1, oprd2, ch))\n",
    "                \n",
    "        return oprd_stack.pop()\n",
    "                \n",
    "\n",
    "        \n",
    "        \n",
    "        \n",
    "        \n",
    "if __name__ == \"__main__\":\n",
    "    a = org_exp(input(\"숫자를 입력하세요: \"))\n",
    "    calc = Calculator(a)\n",
    "    print(calc.calculate())\n",
    "    # 답: -28"
   ]
  },
  {
   "cell_type": "code",
   "execution_count": null,
   "metadata": {
    "collapsed": false
   },
   "outputs": [],
   "source": []
  },
  {
   "cell_type": "code",
   "execution_count": null,
   "metadata": {
    "collapsed": true
   },
   "outputs": [],
   "source": []
  }
 ],
 "metadata": {
  "kernelspec": {
   "display_name": "Python 3",
   "language": "python",
   "name": "python3"
  },
  "language_info": {
   "codemirror_mode": {
    "name": "ipython",
    "version": 3
   },
   "file_extension": ".py",
   "mimetype": "text/x-python",
   "name": "python",
   "nbconvert_exporter": "python",
   "pygments_lexer": "ipython3",
   "version": "3.6.0"
  }
 },
 "nbformat": 4,
 "nbformat_minor": 2
}
