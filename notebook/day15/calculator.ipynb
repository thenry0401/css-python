{
 "cells": [
  {
   "cell_type": "code",
   "execution_count": 3,
   "metadata": {
    "collapsed": false
   },
   "outputs": [],
   "source": [
    "from stack import Stack"
   ]
  },
  {
   "cell_type": "code",
   "execution_count": 7,
   "metadata": {
    "collapsed": false
   },
   "outputs": [
    {
     "name": "stdout",
     "output_type": "stream",
     "text": [
      "수식을 입력하세요: (2+3*4)*4\n",
      "234*+4*\n"
     ]
    },
    {
     "ename": "NameError",
     "evalue": "name 'oprd' is not defined",
     "output_type": "error",
     "traceback": [
      "\u001b[0;31m---------------------------------------------------------------------------\u001b[0m",
      "\u001b[0;31mNameError\u001b[0m                                 Traceback (most recent call last)",
      "\u001b[0;32m<ipython-input-7-23e36247b1f2>\u001b[0m in \u001b[0;36m<module>\u001b[0;34m()\u001b[0m\n\u001b[1;32m     78\u001b[0m     \u001b[0mcalc\u001b[0m\u001b[0;34m.\u001b[0m\u001b[0mconvert_to_postfix\u001b[0m\u001b[0;34m(\u001b[0m\u001b[0;34m)\u001b[0m\u001b[0;34m\u001b[0m\u001b[0m\n\u001b[1;32m     79\u001b[0m     \u001b[0mprint\u001b[0m\u001b[0;34m(\u001b[0m\u001b[0mcalc\u001b[0m\u001b[0;34m.\u001b[0m\u001b[0mpostfix_exp\u001b[0m\u001b[0;34m)\u001b[0m\u001b[0;34m\u001b[0m\u001b[0m\n\u001b[0;32m---> 80\u001b[0;31m     \u001b[0mprint\u001b[0m\u001b[0;34m(\u001b[0m\u001b[0mcalc\u001b[0m\u001b[0;34m.\u001b[0m\u001b[0mcalculate\u001b[0m\u001b[0;34m(\u001b[0m\u001b[0;34m)\u001b[0m\u001b[0;34m)\u001b[0m\u001b[0;34m\u001b[0m\u001b[0m\n\u001b[0m\u001b[1;32m     81\u001b[0m \u001b[0;34m\u001b[0m\u001b[0m\n",
      "\u001b[0;32m<ipython-input-7-23e36247b1f2>\u001b[0m in \u001b[0;36mcalculate\u001b[0;34m(self)\u001b[0m\n\u001b[1;32m     69\u001b[0m                 \u001b[0moprd2\u001b[0m \u001b[0;34m=\u001b[0m \u001b[0moprd_stack\u001b[0m\u001b[0;34m.\u001b[0m\u001b[0mpop\u001b[0m\u001b[0;34m(\u001b[0m\u001b[0;34m)\u001b[0m\u001b[0;34m\u001b[0m\u001b[0m\n\u001b[1;32m     70\u001b[0m                 \u001b[0moprd1\u001b[0m \u001b[0;34m=\u001b[0m \u001b[0moprd_stack\u001b[0m\u001b[0;34m.\u001b[0m\u001b[0mpop\u001b[0m\u001b[0;34m(\u001b[0m\u001b[0;34m)\u001b[0m\u001b[0;34m\u001b[0m\u001b[0m\n\u001b[0;32m---> 71\u001b[0;31m                 \u001b[0moprd\u001b[0m\u001b[0;34m.\u001b[0m\u001b[0mstack\u001b[0m\u001b[0;34m.\u001b[0m\u001b[0mpush\u001b[0m\u001b[0;34m(\u001b[0m\u001b[0mself\u001b[0m\u001b[0;34m.\u001b[0m\u001b[0mcalc_two_oprd\u001b[0m\u001b[0;34m(\u001b[0m\u001b[0moprd1\u001b[0m\u001b[0;34m,\u001b[0m \u001b[0moprd2\u001b[0m\u001b[0;34m)\u001b[0m\u001b[0;34m)\u001b[0m\u001b[0;34m\u001b[0m\u001b[0m\n\u001b[0m\u001b[1;32m     72\u001b[0m \u001b[0;34m\u001b[0m\u001b[0m\n\u001b[1;32m     73\u001b[0m         \u001b[0;32mreturn\u001b[0m \u001b[0moprd_stack\u001b[0m\u001b[0;34m.\u001b[0m\u001b[0mpop\u001b[0m\u001b[0;34m(\u001b[0m\u001b[0;34m)\u001b[0m\u001b[0;34m\u001b[0m\u001b[0m\n",
      "\u001b[0;31mNameError\u001b[0m: name 'oprd' is not defined"
     ]
    }
   ],
   "source": [
    "class Calculator:\n",
    "    def __init__(self, org_exp):\n",
    "        self.org_exp = org_exp.replace(' ', '')\n",
    "        self.postfix_exp = None\n",
    "    \n",
    "    # 겟웨이트를 @classmethod로 구현해도된다(=클래스 전체가 공유하는)\n",
    "    def get_weight(self, oprt):\n",
    "        if oprt == '*' or oprt == '/':\n",
    "            return 9\n",
    "        elif oprt == '+' or oprt == '-':\n",
    "            return 7\n",
    "        elif oprt == '(':\n",
    "            return 5\n",
    "        else:\n",
    "            return None\n",
    "    \n",
    "    def convert_to_postfix(self):\n",
    "        exp_list = []\n",
    "        oprt_stack = Stack()\n",
    "        \n",
    "        for ch in self.org_exp:\n",
    "            #이 문자가 숫자 문자인가? '3'\n",
    "            if ch.isdigit():\n",
    "                exp_list.append(ch)\n",
    "            #연산자 문자 '(', ')', '+', '-', '*', '/'\n",
    "\n",
    "            else:\n",
    "                #'(' or oprt_stack 이 비어있다면 그냥 넣는다                \n",
    "                if ch == '(' or not oprt_stack:\n",
    "                    oprt_stack.push(ch)\n",
    "                #')', '+ - * /'\n",
    "                else:\n",
    "                    # ')'\n",
    "                    if ch == ')':\n",
    "                        op = oprt_stack.pop()\n",
    "                        while op != '(':\n",
    "                            exp_list.append(op)\n",
    "                            op = oprt_stack.pop()\n",
    "                    # '+ - * /'\n",
    "                    else:\n",
    "                        if self.get_weight(ch) > self.get_weight(oprt_stack.peek()):\n",
    "                            oprt_stack.push(ch)\n",
    "                        else:\n",
    "                            while oprt_stack and self.get_weight(ch) <= self.get_weight(oprt_stack.peek()):\n",
    "                                exp_list.append(oprt_stack.pop())\n",
    "        while oprt_stack:\n",
    "            exp_list.append(oprt_stack.pop())\n",
    "            \n",
    "        self.postfix_exp = ''.join(exp_list)\n",
    "    \n",
    "    def calc_two_oprd(self, oprd1, oprd2, oprt):\n",
    "        if oprt == '+':\n",
    "            return oprd1 + oprd2\n",
    "        elif oprt == '-':\n",
    "            return oprd1 - oprd2\n",
    "        elif oprt == '*':\n",
    "            return oprd1 * oprd2\n",
    "        elif oprt == '/':\n",
    "            return oprd1 // oprd2\n",
    "        \n",
    "    def calculate(self):\n",
    "        oprd_stack = Stack()\n",
    "        \n",
    "        for ch in self.postfix_exp:\n",
    "            if ch.isdigit():\n",
    "                oprd_stack.push(int(ch))\n",
    "            # ' +-*/ '\n",
    "            else:\n",
    "                oprd2 = oprd_stack.pop()\n",
    "                oprd1 = oprd_stack.pop()\n",
    "                oprd.stack.push(self.calc_two_oprd(oprd1, oprd2))\n",
    "                \n",
    "        return oprd_stack.pop()\n",
    "        \n",
    "if __name__ == \"__main__\":\n",
    "    a = input(\"수식을 입력하세요: \")\n",
    "    calc = Calculator(a)\n",
    "    calc.convert_to_postfix()\n",
    "    print(calc.postfix_exp)\n",
    "    print(calc.calculate())\n",
    "                            "
   ]
  },
  {
   "cell_type": "code",
   "execution_count": null,
   "metadata": {
    "collapsed": true
   },
   "outputs": [],
   "source": []
  }
 ],
 "metadata": {
  "kernelspec": {
   "display_name": "Python 3",
   "language": "python",
   "name": "python3"
  },
  "language_info": {
   "codemirror_mode": {
    "name": "ipython",
    "version": 3
   },
   "file_extension": ".py",
   "mimetype": "text/x-python",
   "name": "python",
   "nbconvert_exporter": "python",
   "pygments_lexer": "ipython3",
   "version": "3.6.0"
  }
 },
 "nbformat": 4,
 "nbformat_minor": 2
}
