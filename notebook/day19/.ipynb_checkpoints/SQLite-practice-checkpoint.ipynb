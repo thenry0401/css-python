{
 "cells": [
  {
   "cell_type": "code",
   "execution_count": 1,
   "metadata": {
    "collapsed": false,
    "deletable": true,
    "editable": true
   },
   "outputs": [
    {
     "name": "stdout",
     "output_type": "stream",
     "text": [
      "(1, 'Fastcampus', 3, 'python')\n"
     ]
    }
   ],
   "source": [
    "import sqlite3 as lite\n",
    "\n",
    "conn = lite.connect('user.db')\n",
    "cur = conn.cursor()\n",
    "cur.execute(\"SELECT * FROM user\")\n",
    "rows = cur.fetchall()\n",
    "\n",
    "for row in rows:\n",
    "    print(row)\n",
    "conn.close()"
   ]
  },
  {
   "cell_type": "code",
   "execution_count": 2,
   "metadata": {
    "collapsed": false,
    "deletable": true,
    "editable": true
   },
   "outputs": [
    {
     "name": "stdout",
     "output_type": "stream",
     "text": [
      "(1, 'Fastcampus', 3, 'python')\n",
      "(2, 'ythwork', 30, 'c')\n",
      "(3, 'ulgoon', 28, 'golang')\n",
      "(4, 'hdshin', 29, 'facebook')\n"
     ]
    }
   ],
   "source": [
    "conn = lite.connect('user.db')\n",
    "\n",
    "cur = conn.cursor()\n",
    "cur.execute(\"INSERT INTO user (name, age, lang) \\\n",
    "VALUES('ythwork', 30, 'c')\")\n",
    "cur.execute(\"INSERT INTO user (name, age, lang) \\\n",
    "VALUES('ulgoon', 28, 'golang')\")\n",
    "cur.execute(\"INSERT INTO user (name, age, lang) \\\n",
    "VALUES('hdshin', 29, 'facebook')\")\n",
    "\n",
    "cur.execute(\"SELECT * FROM user\")\n",
    "rows = cur.fetchall()\n",
    "for row in rows:\n",
    "    print(row)\n",
    "conn.commit()\n",
    "conn.close()\n",
    "\n",
    "        "
   ]
  },
  {
   "cell_type": "code",
   "execution_count": null,
   "metadata": {
    "collapsed": true,
    "deletable": true,
    "editable": true
   },
   "outputs": [],
   "source": []
  },
  {
   "cell_type": "code",
   "execution_count": 3,
   "metadata": {
    "collapsed": false,
    "deletable": true,
    "editable": true
   },
   "outputs": [
    {
     "name": "stdout",
     "output_type": "stream",
     "text": [
      "id =  1\n",
      "name =  Fastcampus\n",
      "age =  3\n",
      "lang =  python \n",
      "\n",
      "id =  2\n",
      "name =  ythwork\n",
      "age =  30\n",
      "lang =  c \n",
      "\n",
      "id =  3\n",
      "name =  ulgoon\n",
      "age =  28\n",
      "lang =  golang \n",
      "\n",
      "id =  4\n",
      "name =  hdshin\n",
      "age =  29\n",
      "lang =  facebook \n",
      "\n",
      "print closed\n"
     ]
    }
   ],
   "source": [
    "conn = lite.connect('user.db')\n",
    "\n",
    "with conn:\n",
    "    cur = conn.execute(\"select id, name, age, lang from user\")\n",
    "    for row in cur:\n",
    "        print(\"id = \", row[0])\n",
    "        print(\"name = \", row[1])\n",
    "        print(\"age = \", row[2])\n",
    "        print(\"lang = \", row[3], \"\\n\")\n",
    "    \n",
    "print(\"print closed\")\n",
    "conn.close()"
   ]
  },
  {
   "cell_type": "code",
   "execution_count": null,
   "metadata": {
    "collapsed": true,
    "deletable": true,
    "editable": true
   },
   "outputs": [],
   "source": []
  },
  {
   "cell_type": "code",
   "execution_count": 4,
   "metadata": {
    "collapsed": false,
    "deletable": true,
    "editable": true
   },
   "outputs": [],
   "source": [
    "conn = lite.connect('user.db')\n",
    "\n",
    "cur = conn.cursor()\n",
    "\n",
    "with conn:\n",
    "    conn.execute(\"UPDATE user SET lang = 'python' where id = 2\")\n",
    "    conn.commit()\n",
    "conn.close()"
   ]
  },
  {
   "cell_type": "code",
   "execution_count": 5,
   "metadata": {
    "collapsed": false,
    "deletable": true,
    "editable": true
   },
   "outputs": [
    {
     "name": "stdout",
     "output_type": "stream",
     "text": [
      "id =  1\n",
      "name =  Fastcampus\n",
      "age =  3\n",
      "lang =  python \n",
      "\n",
      "id =  2\n",
      "name =  ythwork\n",
      "age =  30\n",
      "lang =  python \n",
      "\n",
      "id =  3\n",
      "name =  ulgoon\n",
      "age =  28\n",
      "lang =  golang \n",
      "\n",
      "id =  4\n",
      "name =  hdshin\n",
      "age =  29\n",
      "lang =  facebook \n",
      "\n",
      "print closed\n"
     ]
    }
   ],
   "source": [
    "conn = lite.connect('user.db')\n",
    "\n",
    "with conn:\n",
    "    cur = conn.execute(\"select id, name, age, lang from user\")\n",
    "    for row in cur:\n",
    "        print(\"id = \", row[0])\n",
    "        print(\"name = \", row[1])\n",
    "        print(\"age = \", row[2])\n",
    "        print(\"lang = \", row[3], \"\\n\")\n",
    "    \n",
    "print(\"print closed\")\n",
    "conn.close()"
   ]
  },
  {
   "cell_type": "code",
   "execution_count": null,
   "metadata": {
    "collapsed": true,
    "deletable": true,
    "editable": true
   },
   "outputs": [],
   "source": []
  },
  {
   "cell_type": "code",
   "execution_count": 9,
   "metadata": {
    "collapsed": false,
    "deletable": true,
    "editable": true
   },
   "outputs": [
    {
     "name": "stdout",
     "output_type": "stream",
     "text": [
      "Deletion complete \n",
      "\n",
      "id =  1\n",
      "name =  Fastcampus\n",
      "age =  3\n",
      "lang =  python \n",
      "\n",
      "id =  2\n",
      "name =  ythwork\n",
      "age =  30\n",
      "lang =  python \n",
      "\n",
      "id =  4\n",
      "name =  hdshin\n",
      "age =  29\n",
      "lang =  facebook \n",
      "\n"
     ]
    }
   ],
   "source": [
    "conn = lite.connect('user.db')\n",
    "\n",
    "with conn:\n",
    "    conn.execute(\"DELETE from user where id = 3\")  ###Delete some row\n",
    "    conn.commit()\n",
    "    print(\"Deletion complete\", \"\\n\")\n",
    "\n",
    "    user_data = conn.execute(\"select id, name, age, lang from user\")\n",
    "    for row in user_data:\n",
    "        print(\"id = \", row[0])\n",
    "        print(\"name = \", row[1])\n",
    "        print(\"age = \", row[2])\n",
    "        print(\"lang = \", row[3], \"\\n\")        \n",
    "    \n",
    "conn.close()"
   ]
  },
  {
   "cell_type": "code",
   "execution_count": null,
   "metadata": {
    "collapsed": true,
    "deletable": true,
    "editable": true
   },
   "outputs": [],
   "source": []
  },
  {
   "cell_type": "code",
   "execution_count": null,
   "metadata": {
    "collapsed": true,
    "deletable": true,
    "editable": true
   },
   "outputs": [],
   "source": []
  }
 ],
 "metadata": {
  "kernelspec": {
   "display_name": "Python 3",
   "language": "python",
   "name": "python3"
  },
  "language_info": {
   "codemirror_mode": {
    "name": "ipython",
    "version": 3
   },
   "file_extension": ".py",
   "mimetype": "text/x-python",
   "name": "python",
   "nbconvert_exporter": "python",
   "pygments_lexer": "ipython3",
   "version": "3.6.0"
  }
 },
 "nbformat": 4,
 "nbformat_minor": 2
}
