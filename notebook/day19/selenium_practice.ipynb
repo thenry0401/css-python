{
 "cells": [
  {
   "cell_type": "code",
   "execution_count": 28,
   "metadata": {
    "collapsed": false
   },
   "outputs": [
    {
     "name": "stdout",
     "output_type": "stream",
     "text": [
      "MacBook Air - Apple (KR)\n",
      "MacBook Air 구입하기 - Apple (KR)\n",
      "맥북 에어 - 위키백과, 우리 모두의 백과사전\n",
      "MacBook Air - Wikipedia\n",
      "MacBook Air: Apple MacBook Air Laptop - Best Buy\n",
      "Apple MacBook Air (Latest Model) - 13.3\" Display - Intel Core i5 - 8GB ...\n",
      "macbook air 관련 이미지\n",
      "MacBook Air: Everything We Know | MacRumors\n",
      "JB Hi-Fi | Apple Mac\n",
      "Is the MacBook Air Good for Students? - Laptop Mag\n"
     ]
    }
   ],
   "source": [
    "import os\n",
    "from selenium import webdriver\n",
    "from selenium.webdriver.support.ui import WebDriverWait\n",
    "from selenium.webdriver.support import expected_conditions as EC\n",
    "from selenium.webdriver.common.by import By\n",
    "\n",
    "ff_driver = webdriver.Firefox()\n",
    "ff_driver.get(\"https://www.google.co.kr\")\n",
    "\n",
    "query = ff_driver.find_element_by_id(\"lst-ib\")\n",
    "query.send_keys(\"macbook air\")\n",
    "\n",
    "ff_driver.find_element_by_name(\"btnK\").click()\n",
    "ff_driver.implicitly_wait(10)\n",
    "\n",
    "RESULT_LOCATOR = \"//div/h3/a\"\n",
    "WebDriverWait(ff_driver, 10).until(EC.visibility_of_element_located((By.XPATH, RESULT_LOCATOR)))\n",
    "page1_results = ff_driver.find_elements(By.XPATH, RESULT_LOCATOR)\n",
    "for item in page1_results:\n",
    "    print(item.text)"
   ]
  },
  {
   "cell_type": "code",
   "execution_count": null,
   "metadata": {
    "collapsed": false
   },
   "outputs": [],
   "source": []
  },
  {
   "cell_type": "code",
   "execution_count": 38,
   "metadata": {
    "collapsed": false
   },
   "outputs": [],
   "source": [
    "import os\n",
    "from selenium import webdriver\n",
    "from selenium.webdriver.support.ui import WebDriverWait\n",
    "from selenium.webdriver.support import expected_conditions as EC\n",
    "from selenium.webdriver.common.by import By\n",
    "\n",
    "ff_driver = webdriver.Firefox()\n",
    "ff_driver.get(\"https://nid.naver.com/nidlogin.login\")\n",
    "\n",
    "ff_driver.implicitly_wait(10)\n",
    "\n",
    "username = ff_driver.find_element_by_id(\"id\") \n",
    "password = ff_driver.find_element_by_id(\"pw\")\n",
    "\n",
    "username.send_keys(\"ashlycole\")\n",
    "password.send_keys(\"thenry12!\")\n",
    "\n",
    "ff_driver.find_element_by_class_name(\"btn_global\").click()\n",
    "ff_driver.implicitly_wait(10)\n",
    "\n",
    "ff_driver.get(\"http://cafe.naver.com/joonggonara\")\n",
    "query = \"맥북에어\"\n",
    "ff_driver.find_element_by_css_selector(\"#topLayerQueryInput\").send_keys(query)\n",
    "ff_driver.execute_script(\"searchBoard();\")\n",
    "\n",
    "ff_driver.switch_to_frame(ff_driver.find_element_by_css_selector(\"iframe#cafe_main\"))\n",
    "post_elements = ff_driver.find_elements(By.TAG_NAME, \"td.board-list .m-tcol-c\")"
   ]
  },
  {
   "cell_type": "code",
   "execution_count": 39,
   "metadata": {
    "collapsed": false
   },
   "outputs": [
    {
     "name": "stdout",
     "output_type": "stream",
     "text": [
      "맥북에어11인치 2012년 고급형 판매합니다.\n",
      "[공식앱] 맥북에어(MacBook Air)2012 11인치 상태A++팝니다.\n",
      "[공식앱] 맥북에어(MacBook Air)2012 11인치 상태A++팝니다.\n",
      "맥북 에어 2015 13인치 cto 팝니다.\n",
      "깨끗한 맥북에어 2015 early 13인치 기본형 판매합니다\n",
      "맥북에어용 슈퍼드라이브 팝니다. 4만!!\n",
      "맥북에어 13인치 2013 256GB\n",
      "맥북에어 11.6인치 팔아요\n",
      "맥북에어 13인치 2012 팝니다[35만]\n",
      "맥북에어 2013 Mid 13인치 CTO 모델 (CPU : i7 , RAM : 8G, SSD : 128G) 찍힘있음\n",
      "맥북에어 2014 13인치 기본형\n",
      "맥북에어 2015early 팝니다.\n",
      "맥북에어13인치 2010년 cto (4g ram) 팝니다.\n",
      "맥북 에어 2015(9613)\n",
      "[ 판매 중 ] 맥북에어 13인치 Early 2014 128GB\n"
     ]
    }
   ],
   "source": [
    "for item in post_elements:\n",
    "    print(item.text)"
   ]
  },
  {
   "cell_type": "code",
   "execution_count": null,
   "metadata": {
    "collapsed": true
   },
   "outputs": [],
   "source": []
  }
 ],
 "metadata": {
  "kernelspec": {
   "display_name": "Python 3",
   "language": "python",
   "name": "python3"
  },
  "language_info": {
   "codemirror_mode": {
    "name": "ipython",
    "version": 3
   },
   "file_extension": ".py",
   "mimetype": "text/x-python",
   "name": "python",
   "nbconvert_exporter": "python",
   "pygments_lexer": "ipython3",
   "version": "3.6.0"
  }
 },
 "nbformat": 4,
 "nbformat_minor": 2
}
