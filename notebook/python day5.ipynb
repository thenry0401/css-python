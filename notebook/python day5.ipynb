{
 "cells": [
  {
   "cell_type": "code",
   "execution_count": 37,
   "metadata": {
    "collapsed": false,
    "deletable": true,
    "editable": true
   },
   "outputs": [
    {
     "name": "stdout",
     "output_type": "stream",
     "text": [
      "Type two numbers: 1 2\n"
     ]
    }
   ],
   "source": [
    "numbers = input(\"Type two numbers: \").split()\n",
    "\n",
    "def "
   ]
  },
  {
   "cell_type": "code",
   "execution_count": 32,
   "metadata": {
    "collapsed": false
   },
   "outputs": [
    {
     "data": {
      "text/plain": [
       "['python', 'is', 'easy']"
      ]
     },
     "execution_count": 32,
     "metadata": {},
     "output_type": "execute_result"
    }
   ],
   "source": [
    "#func = \"python is easy programming language\"\n",
    "#func.count('p')\n",
    "\n",
    "#func.find('p')\n",
    "\n",
    "#comma = \",\"\n",
    "#func = comma.join('python')\n",
    "\n",
    "#func.split(',')\n",
    "\n",
    "python_is_easy = \"python is easy\"\n",
    "python_is_easy.split()\n",
    "\n",
    "#python_is_easy.replace(\"python\", \"golang\")"
   ]
  },
  {
   "cell_type": "code",
   "execution_count": 11,
   "metadata": {
    "collapsed": false
   },
   "outputs": [
    {
     "name": "stdout",
     "output_type": "stream",
     "text": [
      "type two number with SPACE: 9 15\n",
      "   9      15 keep\n",
      "   4      30 struck\n",
      "   2      60 struck\n",
      "   1     120 keep\n",
      "The result is 135\n"
     ]
    }
   ],
   "source": [
    "#Ethiopian Multiplication\n",
    "\n",
    "\n",
    "#Define process\n",
    "def halve(x):\n",
    "    return x // 2\n",
    "\n",
    "def double(x):\n",
    "    return x * 2\n",
    "\n",
    "def even(x):\n",
    "    return not x % 2\n",
    "\n",
    "#user input\n",
    "numberset = str(input(\"type two number with SPACE: \")).split()\n",
    "\n",
    "#main process\n",
    "def ethiopian(first, second):\n",
    "    result = 0\n",
    "    # 첫번째 수가 0이 될때 까지 반복진행\n",
    "    while first >= 1:\n",
    "        # 짝수일때\n",
    "        if even(first):\n",
    "            print(\"%4d %7d struck\" % (first, second))\n",
    "        # 홀수일때\n",
    "        else:\n",
    "            print(\"%4d %7d keep\" % (first, second))\n",
    "            result += second\n",
    "\n",
    "        first = halve(first)\n",
    "        second = double(second)\n",
    "        \n",
    "    print(\"The result is %d\" % result)\n",
    "\n",
    "ethiopian(int(numberset[0]), int(numberset[1]))"
   ]
  },
  {
   "cell_type": "code",
   "execution_count": 12,
   "metadata": {
    "collapsed": false
   },
   "outputs": [
    {
     "name": "stdout",
     "output_type": "stream",
     "text": [
      "숫자 1을 입력하세요5\n",
      "숫자 2을 입력하세요16\n",
      "80\n"
     ]
    }
   ],
   "source": [
    "# 현주님의 아주 간편한 솔루션\n",
    "# user input\n",
    "num = int(input(\"숫자 1을 입력하세요\"))\n",
    "num2 = int(input(\"숫자 2을 입력하세요\"))\n",
    "\n",
    "# init result\n",
    "result = 0\n",
    "\n",
    "# main process\n",
    "while True:\n",
    "    if num % 2 == 1:\n",
    "        result = result + num2\n",
    "    num = num // 2\n",
    "    num2 = num2 * 2 \n",
    "    \n",
    "    if num == 0:\n",
    "        print(result)\n",
    "        break"
   ]
  },
  {
   "cell_type": "code",
   "execution_count": null,
   "metadata": {
    "collapsed": true
   },
   "outputs": [],
   "source": []
  },
  {
   "cell_type": "code",
   "execution_count": 29,
   "metadata": {
    "collapsed": false,
    "deletable": true,
    "editable": true
   },
   "outputs": [
    {
     "name": "stdout",
     "output_type": "stream",
     "text": [
      "How many times want to curse the beast? : 10\n",
      "fusion! (9 times left)\n",
      "fusion! (8 times left)\n",
      "fusion! (7 times left)\n",
      "fusion! (6 times left)\n",
      "fusion! (5 times left)\n",
      "fusion! (4 times left)\n",
      "fusion! (3 times left)\n",
      "fusion! (2 times left)\n",
      "fusion! (1 times left)\n",
      "fusion! (0 times left)\n",
      "curse complete\n"
     ]
    }
   ],
   "source": [
    "times = int(input(\"How many times want to curse the beast? : \"))\n",
    "def recurse_beast(a):\n",
    "    if a == 0:\n",
    "        print(\"curse complete\")\n",
    "    else:\n",
    "        print(\"fusion! (%d times left)\" % (a - 1))\n",
    "        recurse_beast(a - 1)\n",
    "\n",
    "recurse_beast(times)"
   ]
  },
  {
   "cell_type": "code",
   "execution_count": 30,
   "metadata": {
    "collapsed": false,
    "deletable": true,
    "editable": true
   },
   "outputs": [
    {
     "name": "stdout",
     "output_type": "stream",
     "text": [
      "[2, 4, 6, 8, 10]\n"
     ]
    }
   ],
   "source": [
    "old_list = [1,2,3,4,5,]\n",
    "\n",
    "doubled_list = []\n",
    "for i in old_list:\n",
    "    doubled_list.append(i*2)\n",
    "    \n",
    "print(doubled_list)"
   ]
  },
  {
   "cell_type": "code",
   "execution_count": 33,
   "metadata": {
    "collapsed": false,
    "deletable": true,
    "editable": true
   },
   "outputs": [
    {
     "name": "stdout",
     "output_type": "stream",
     "text": [
      "[2, 4, 6, 8, 10]\n"
     ]
    }
   ],
   "source": [
    "doubled_listcomp = [i*2 for i in old_list]\n",
    "print(doubled_listcomp)"
   ]
  },
  {
   "cell_type": "code",
   "execution_count": 35,
   "metadata": {
    "collapsed": false,
    "deletable": true,
    "editable": true
   },
   "outputs": [
    {
     "name": "stdout",
     "output_type": "stream",
     "text": [
      "[4, 8]\n"
     ]
    }
   ],
   "source": [
    "doubled_list = []\n",
    "for i in old_list:\n",
    "    if i % 2 == 0:\n",
    "        doubled_list.append(i*2)\n",
    "print(doubled_list)"
   ]
  },
  {
   "cell_type": "code",
   "execution_count": 36,
   "metadata": {
    "collapsed": false,
    "deletable": true,
    "editable": true
   },
   "outputs": [
    {
     "name": "stdout",
     "output_type": "stream",
     "text": [
      "[4, 8]\n"
     ]
    }
   ],
   "source": [
    "doubled_listcon = [i*2 for i in old_list if i % 2 == 0]\n",
    "print(doubled_listcon)"
   ]
  },
  {
   "cell_type": "code",
   "execution_count": 37,
   "metadata": {
    "collapsed": true,
    "deletable": true,
    "editable": true
   },
   "outputs": [],
   "source": [
    "f = open(\"Newfile.txt\", 'a')\n",
    "for i in range(1,11):\n",
    "    text = \"line %d. \\n\" % i\n",
    "    f.write(text)\n",
    "f.close()"
   ]
  },
  {
   "cell_type": "code",
   "execution_count": 41,
   "metadata": {
    "collapsed": false,
    "deletable": true,
    "editable": true
   },
   "outputs": [
    {
     "name": "stdout",
     "output_type": "stream",
     "text": [
      "line 1. \n",
      "\n"
     ]
    }
   ],
   "source": [
    "f = open(\"Newfile.txt\", 'r')\n",
    "text = f.readline()\n",
    "print(text)\n",
    "f.close()"
   ]
  },
  {
   "cell_type": "code",
   "execution_count": 44,
   "metadata": {
    "collapsed": false,
    "deletable": true,
    "editable": true
   },
   "outputs": [
    {
     "name": "stdout",
     "output_type": "stream",
     "text": [
      "line 1. \n",
      "\n",
      "line 2. \n",
      "\n",
      "line 3. \n",
      "\n",
      "line 4. \n",
      "\n",
      "line 5. \n",
      "\n",
      "line 6. \n",
      "\n",
      "line 7. \n",
      "\n",
      "line 8. \n",
      "\n",
      "line 9. \n",
      "\n",
      "line 10. \n",
      "\n"
     ]
    }
   ],
   "source": [
    "f = open(\"Newfile.txt\", 'r')\n",
    "while True:\n",
    "    text = f.readline()\n",
    "    if not text: break\n",
    "    print(text)\n",
    "f.close()"
   ]
  },
  {
   "cell_type": "code",
   "execution_count": 46,
   "metadata": {
    "collapsed": false,
    "deletable": true,
    "editable": true
   },
   "outputs": [
    {
     "name": "stdout",
     "output_type": "stream",
     "text": [
      "line 1. \n",
      "\n",
      "line 2. \n",
      "\n",
      "line 3. \n",
      "\n",
      "line 4. \n",
      "\n",
      "line 5. \n",
      "\n",
      "line 6. \n",
      "\n",
      "line 7. \n",
      "\n",
      "line 8. \n",
      "\n",
      "line 9. \n",
      "\n",
      "line 10. \n",
      "\n"
     ]
    }
   ],
   "source": [
    "f = open(\"Newfile.txt\", 'r')\n",
    "texts = f.readlines()\n",
    "for text in texts:\n",
    "    print(text)\n",
    "f.close()"
   ]
  },
  {
   "cell_type": "code",
   "execution_count": 49,
   "metadata": {
    "collapsed": true,
    "deletable": true,
    "editable": true
   },
   "outputs": [],
   "source": [
    "f = open(\"Newfile.txt\", 'a')\n",
    "for i in range(11,20):\n",
    "    text = \"New line %d \\n\" % i\n",
    "    f.write(text)\n",
    "f.close()"
   ]
  },
  {
   "cell_type": "code",
   "execution_count": 50,
   "metadata": {
    "collapsed": false,
    "deletable": true,
    "editable": true
   },
   "outputs": [
    {
     "name": "stdout",
     "output_type": "stream",
     "text": [
      "line 1. \n",
      "\n",
      "line 2. \n",
      "\n",
      "line 3. \n",
      "\n",
      "line 4. \n",
      "\n",
      "line 5. \n",
      "\n",
      "line 6. \n",
      "\n",
      "line 7. \n",
      "\n",
      "line 8. \n",
      "\n",
      "line 9. \n",
      "\n",
      "line 10. \n",
      "\n",
      "New line 11 \n",
      "\n",
      "New line 12 \n",
      "\n",
      "New line 13 \n",
      "\n",
      "New line 14 \n",
      "\n",
      "New line 15 \n",
      "\n",
      "New line 16 \n",
      "\n",
      "New line 17 \n",
      "\n",
      "New line 18 \n",
      "\n",
      "New line 19 \n",
      "\n"
     ]
    }
   ],
   "source": [
    "f = open(\"Newfile.txt\", 'r')\n",
    "texts = f.readlines()\n",
    "for text in texts:\n",
    "    print(text)\n",
    "f.close()"
   ]
  },
  {
   "cell_type": "code",
   "execution_count": 56,
   "metadata": {
    "collapsed": false,
    "deletable": true,
    "editable": true
   },
   "outputs": [
    {
     "name": "stdout",
     "output_type": "stream",
     "text": [
      "type some number: dfdsf\n",
      "숫자만 입력됩니다.\n"
     ]
    }
   ],
   "source": [
    "try:\n",
    "    some_input = int(input(\"type some number: \"))\n",
    "except ValueError:\n",
    "    print(\"숫자만 입력됩니다.\")"
   ]
  },
  {
   "cell_type": "code",
   "execution_count": 57,
   "metadata": {
    "collapsed": false,
    "deletable": true,
    "editable": true
   },
   "outputs": [
    {
     "name": "stdout",
     "output_type": "stream",
     "text": [
      "[Errno 2] No such file or directory: 'example_r.txt'\n"
     ]
    }
   ],
   "source": [
    "try:\n",
    "    f= open(\"example_r.txt\", 'r')\n",
    "except FileNotFoundError as e:\n",
    "    print(e)\n",
    "else:\n",
    "    text = f.read()\n",
    "    f.close"
   ]
  },
  {
   "cell_type": "code",
   "execution_count": 58,
   "metadata": {
    "collapsed": false,
    "deletable": true,
    "editable": true
   },
   "outputs": [
    {
     "name": "stdout",
     "output_type": "stream",
     "text": [
      "hoho\n"
     ]
    }
   ],
   "source": [
    "try:\n",
    "    f = open(\"ganadara.txt\", 'r')\n",
    "except FileNotFoundError as e:\n",
    "    pass\n",
    "else:\n",
    "    print(\"haha\")\n",
    "    f.close()\n",
    "print(\"hoho\")"
   ]
  },
  {
   "cell_type": "code",
   "execution_count": 30,
   "metadata": {
    "collapsed": false,
    "deletable": true,
    "editable": true
   },
   "outputs": [
    {
     "name": "stdout",
     "output_type": "stream",
     "text": [
      "첫번 째 숫자를 쓰세요: 4\n",
      "두번 째 숫자를 쓰세요: 9\n",
      "결과: 13\n"
     ]
    }
   ],
   "source": [
    "number1 = int(input(\"첫번 째 숫자를 쓰세요: \"))\n",
    "number2 = int(input(\"두번 째 숫자를 쓰세요: \"))\n",
    "#result = 0\n",
    "result = number1 + number2\n",
    "print(\"결과: %d\" % result)"
   ]
  },
  {
   "cell_type": "markdown",
   "metadata": {},
   "source": [
    "##### "
   ]
  }
 ],
 "metadata": {
  "kernelspec": {
   "display_name": "Python 3",
   "language": "python",
   "name": "python3"
  },
  "language_info": {
   "codemirror_mode": {
    "name": "ipython",
    "version": 3
   },
   "file_extension": ".py",
   "mimetype": "text/x-python",
   "name": "python",
   "nbconvert_exporter": "python",
   "pygments_lexer": "ipython3",
   "version": "3.6.0"
  }
 },
 "nbformat": 4,
 "nbformat_minor": 2
}
