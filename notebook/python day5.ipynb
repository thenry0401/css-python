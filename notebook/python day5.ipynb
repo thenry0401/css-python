{
 "cells": [
  {
   "cell_type": "code",
   "execution_count": 14,
   "metadata": {
    "collapsed": false
   },
   "outputs": [
    {
     "name": "stdout",
     "output_type": "stream",
     "text": [
      "Type the number1: 10\n",
      "Type the number2: 20\n"
     ]
    }
   ],
   "source": [
    "number1 = int(input(\"Type the number1: \"))\n",
    "number2 = int(input(\"Type the number2: \"))"
   ]
  },
  {
   "cell_type": "code",
   "execution_count": 25,
   "metadata": {
    "collapsed": false
   },
   "outputs": [
    {
     "ename": "SyntaxError",
     "evalue": "invalid syntax (<ipython-input-25-0f098c860046>, line 14)",
     "output_type": "error",
     "traceback": [
      "\u001b[0;36m  File \u001b[0;32m\"<ipython-input-25-0f098c860046>\"\u001b[0;36m, line \u001b[0;32m14\u001b[0m\n\u001b[0;31m    else number1 == 1:\u001b[0m\n\u001b[0m               ^\u001b[0m\n\u001b[0;31mSyntaxError\u001b[0m\u001b[0;31m:\u001b[0m invalid syntax\n"
     ]
    }
   ],
   "source": [
    "number1 = int(input(\"Type the number1: \"))\n",
    "number2 = int(input(\"Type the number2: \"))\n",
    "\n",
    "while True:\n",
    "    if number1 % 2 == 0:\n",
    "        number1 // 2\n",
    "        number2 * 2\n",
    "        print(number1, number2, \"struck\")\n",
    "        keep.append = \n",
    "    elif number1 % 2== 1:\n",
    "        number1 // 2\n",
    "        number2 * 2\n",
    "        print(number1, number2, \"keep\")\n",
    "        keep1 = number2\n",
    "    else number1 == 1:\n",
    "        print(number1, number2, \"keep\")      \n",
    "        keep2 = number2\n",
    "        break\n",
    "result = keep1 + keep2\n",
    "print(keep1+ \" + \" + keep2 + \" = \" + result)"
   ]
  },
  {
   "cell_type": "code",
   "execution_count": 22,
   "metadata": {
    "collapsed": false
   },
   "outputs": [
    {
     "ename": "SyntaxError",
     "evalue": "invalid syntax (<ipython-input-22-8864e16dae91>, line 5)",
     "output_type": "error",
     "traceback": [
      "\u001b[0;36m  File \u001b[0;32m\"<ipython-input-22-8864e16dae91>\"\u001b[0;36m, line \u001b[0;32m5\u001b[0m\n\u001b[0;31m    def\u001b[0m\n\u001b[0m        ^\u001b[0m\n\u001b[0;31mSyntaxError\u001b[0m\u001b[0;31m:\u001b[0m invalid syntax\n"
     ]
    }
   ],
   "source": [
    "# Ethiopian Multiplication\n",
    "\n",
    "\n",
    "# Define process\n",
    "def \n",
    "\n",
    "# User input\n",
    "\n",
    "\n",
    "# Main process"
   ]
  },
  {
   "cell_type": "code",
   "execution_count": 29,
   "metadata": {
    "collapsed": false
   },
   "outputs": [
    {
     "name": "stdout",
     "output_type": "stream",
     "text": [
      "How many times want to curse the beast? : 10\n",
      "fusion! (9 times left)\n",
      "fusion! (8 times left)\n",
      "fusion! (7 times left)\n",
      "fusion! (6 times left)\n",
      "fusion! (5 times left)\n",
      "fusion! (4 times left)\n",
      "fusion! (3 times left)\n",
      "fusion! (2 times left)\n",
      "fusion! (1 times left)\n",
      "fusion! (0 times left)\n",
      "curse complete\n"
     ]
    }
   ],
   "source": [
    "times = int(input(\"How many times want to curse the beast? : \"))\n",
    "def recurse_beast(a):\n",
    "    if a == 0:\n",
    "        print(\"curse complete\")\n",
    "    else:\n",
    "        print(\"fusion! (%d times left)\" % (a - 1))\n",
    "        recurse_beast(a - 1)\n",
    "\n",
    "recurse_beast(times)"
   ]
  },
  {
   "cell_type": "code",
   "execution_count": 30,
   "metadata": {
    "collapsed": false
   },
   "outputs": [
    {
     "name": "stdout",
     "output_type": "stream",
     "text": [
      "[2, 4, 6, 8, 10]\n"
     ]
    }
   ],
   "source": [
    "old_list = [1,2,3,4,5,]\n",
    "\n",
    "doubled_list = []\n",
    "for i in old_list:\n",
    "    doubled_list.append(i*2)\n",
    "    \n",
    "print(doubled_list)"
   ]
  },
  {
   "cell_type": "code",
   "execution_count": 33,
   "metadata": {
    "collapsed": false
   },
   "outputs": [
    {
     "name": "stdout",
     "output_type": "stream",
     "text": [
      "[2, 4, 6, 8, 10]\n"
     ]
    }
   ],
   "source": [
    "doubled_listcomp = [i*2 for i in old_list]\n",
    "print(doubled_listcomp)"
   ]
  },
  {
   "cell_type": "code",
   "execution_count": 35,
   "metadata": {
    "collapsed": false
   },
   "outputs": [
    {
     "name": "stdout",
     "output_type": "stream",
     "text": [
      "[4, 8]\n"
     ]
    }
   ],
   "source": [
    "doubled_list = []\n",
    "for i in old_list:\n",
    "    if i % 2 == 0:\n",
    "        doubled_list.append(i*2)\n",
    "print(doubled_list)"
   ]
  },
  {
   "cell_type": "code",
   "execution_count": 36,
   "metadata": {
    "collapsed": false
   },
   "outputs": [
    {
     "name": "stdout",
     "output_type": "stream",
     "text": [
      "[4, 8]\n"
     ]
    }
   ],
   "source": [
    "doubled_listcon = [i*2 for i in old_list if i % 2 == 0]\n",
    "print(doubled_listcon)"
   ]
  },
  {
   "cell_type": "code",
   "execution_count": 37,
   "metadata": {
    "collapsed": true
   },
   "outputs": [],
   "source": [
    "f = open(\"Newfile.txt\", 'a')\n",
    "for i in range(1,11):\n",
    "    text = \"line %d. \\n\" % i\n",
    "    f.write(text)\n",
    "f.close()"
   ]
  },
  {
   "cell_type": "code",
   "execution_count": 41,
   "metadata": {
    "collapsed": false
   },
   "outputs": [
    {
     "name": "stdout",
     "output_type": "stream",
     "text": [
      "line 1. \n",
      "\n"
     ]
    }
   ],
   "source": [
    "f = open(\"Newfile.txt\", 'r')\n",
    "text = f.readline()\n",
    "print(text)\n",
    "f.close()"
   ]
  },
  {
   "cell_type": "code",
   "execution_count": 44,
   "metadata": {
    "collapsed": false
   },
   "outputs": [
    {
     "name": "stdout",
     "output_type": "stream",
     "text": [
      "line 1. \n",
      "\n",
      "line 2. \n",
      "\n",
      "line 3. \n",
      "\n",
      "line 4. \n",
      "\n",
      "line 5. \n",
      "\n",
      "line 6. \n",
      "\n",
      "line 7. \n",
      "\n",
      "line 8. \n",
      "\n",
      "line 9. \n",
      "\n",
      "line 10. \n",
      "\n"
     ]
    }
   ],
   "source": [
    "f = open(\"Newfile.txt\", 'r')\n",
    "while True:\n",
    "    text = f.readline()\n",
    "    if not text: break\n",
    "    print(text)\n",
    "f.close()"
   ]
  },
  {
   "cell_type": "code",
   "execution_count": 46,
   "metadata": {
    "collapsed": false
   },
   "outputs": [
    {
     "name": "stdout",
     "output_type": "stream",
     "text": [
      "line 1. \n",
      "\n",
      "line 2. \n",
      "\n",
      "line 3. \n",
      "\n",
      "line 4. \n",
      "\n",
      "line 5. \n",
      "\n",
      "line 6. \n",
      "\n",
      "line 7. \n",
      "\n",
      "line 8. \n",
      "\n",
      "line 9. \n",
      "\n",
      "line 10. \n",
      "\n"
     ]
    }
   ],
   "source": [
    "f = open(\"Newfile.txt\", 'r')\n",
    "texts = f.readlines()\n",
    "for text in texts:\n",
    "    print(text)\n",
    "f.close()"
   ]
  },
  {
   "cell_type": "code",
   "execution_count": 49,
   "metadata": {
    "collapsed": true
   },
   "outputs": [],
   "source": [
    "f = open(\"Newfile.txt\", 'a')\n",
    "for i in range(11,20):\n",
    "    text = \"New line %d \\n\" % i\n",
    "    f.write(text)\n",
    "f.close()"
   ]
  },
  {
   "cell_type": "code",
   "execution_count": 50,
   "metadata": {
    "collapsed": false
   },
   "outputs": [
    {
     "name": "stdout",
     "output_type": "stream",
     "text": [
      "line 1. \n",
      "\n",
      "line 2. \n",
      "\n",
      "line 3. \n",
      "\n",
      "line 4. \n",
      "\n",
      "line 5. \n",
      "\n",
      "line 6. \n",
      "\n",
      "line 7. \n",
      "\n",
      "line 8. \n",
      "\n",
      "line 9. \n",
      "\n",
      "line 10. \n",
      "\n",
      "New line 11 \n",
      "\n",
      "New line 12 \n",
      "\n",
      "New line 13 \n",
      "\n",
      "New line 14 \n",
      "\n",
      "New line 15 \n",
      "\n",
      "New line 16 \n",
      "\n",
      "New line 17 \n",
      "\n",
      "New line 18 \n",
      "\n",
      "New line 19 \n",
      "\n"
     ]
    }
   ],
   "source": [
    "f = open(\"Newfile.txt\", 'r')\n",
    "texts = f.readlines()\n",
    "for text in texts:\n",
    "    print(text)\n",
    "f.close()"
   ]
  },
  {
   "cell_type": "code",
   "execution_count": 56,
   "metadata": {
    "collapsed": false
   },
   "outputs": [
    {
     "name": "stdout",
     "output_type": "stream",
     "text": [
      "type some number: dfdsf\n",
      "숫자만 입력됩니다.\n"
     ]
    }
   ],
   "source": [
    "try:\n",
    "    some_input = int(input(\"type some number: \"))\n",
    "except ValueError:\n",
    "    print(\"숫자만 입력됩니다.\")"
   ]
  },
  {
   "cell_type": "code",
   "execution_count": 57,
   "metadata": {
    "collapsed": false
   },
   "outputs": [
    {
     "name": "stdout",
     "output_type": "stream",
     "text": [
      "[Errno 2] No such file or directory: 'example_r.txt'\n"
     ]
    }
   ],
   "source": [
    "try:\n",
    "    f= open(\"example_r.txt\", 'r')\n",
    "except FileNotFoundError as e:\n",
    "    print(e)\n",
    "else:\n",
    "    text = f.read()\n",
    "    f.close"
   ]
  },
  {
   "cell_type": "code",
   "execution_count": 58,
   "metadata": {
    "collapsed": false
   },
   "outputs": [
    {
     "name": "stdout",
     "output_type": "stream",
     "text": [
      "hoho\n"
     ]
    }
   ],
   "source": [
    "try:\n",
    "    f = open(\"ganadara.txt\", 'r')\n",
    "except FileNotFoundError as e:\n",
    "    pass\n",
    "else:\n",
    "    print(\"haha\")\n",
    "    f.close()\n",
    "print(\"hoho\")"
   ]
  },
  {
   "cell_type": "code",
   "execution_count": null,
   "metadata": {
    "collapsed": true
   },
   "outputs": [],
   "source": []
  }
 ],
 "metadata": {
  "kernelspec": {
   "display_name": "Python 3",
   "language": "python",
   "name": "python3"
  },
  "language_info": {
   "codemirror_mode": {
    "name": "ipython",
    "version": 3
   },
   "file_extension": ".py",
   "mimetype": "text/x-python",
   "name": "python",
   "nbconvert_exporter": "python",
   "pygments_lexer": "ipython3",
   "version": "3.6.0"
  }
 },
 "nbformat": 4,
 "nbformat_minor": 2
}
