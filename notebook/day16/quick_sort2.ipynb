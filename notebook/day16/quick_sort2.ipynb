{
 "cells": [
  {
   "cell_type": "code",
   "execution_count": 9,
   "metadata": {
    "collapsed": true
   },
   "outputs": [],
   "source": [
    "call_of_partition = 0\n",
    "\n",
    "def get_pivot(data, start, end):\n",
    "    mid = (start + end) // 2\n",
    "    idx_list = [start, mid, end]\n",
    "    \n",
    "    if data[idx_list[0]] > data[idx_list[1]]:\n",
    "        idx_list[0], idx_list[1] = idx_list[1], idx_list[0]\n",
    "    if data[idx_list[1]] > data[idx_list[2]]:\n",
    "        idx_list[1], idx_list[2] = idx_list[2], idx_list[1]\n",
    "    if data[idx_list[0]] > data[idx_list[1]]:\n",
    "        idx_list[0], idx_list[1] = idx_list[1], idx_list[0]\n",
    "    \n",
    "    return idx_list[1]\n",
    "\n",
    "def partition(data, start, end):\n",
    "    global call_of_partition\n",
    "    call_of_partition += 1\n",
    "    \n",
    "    idx_pivot = get_pivot(data, start, end)\n",
    "    \n",
    "    data[start], data[idx_pivot] = data[idx_pivot], data[start]\n",
    "    \n",
    "    pivot = data[start]\n",
    "    \n",
    "    low = start + 1\n",
    "    high = end\n",
    "    \n",
    "    # low와 high가 반드시 교차해야 한다\n",
    "    while low <= high:\n",
    "        while low <= end and data[low] <= pivot:\n",
    "            low += 1\n",
    "        while high >= (start + 1) and data[high] >= pivot:\n",
    "            high -= 1\n",
    "        \n",
    "        # 아직 교차 전이라면\n",
    "        if low <= high:\n",
    "            data[low] ,data[high] = data[high], data[low]\n",
    "            \n",
    "    data[start], data[high] = data[high], data[start]\n",
    "    \n",
    "    return high\n",
    "\n",
    "def quick_sort(data, start, end):\n",
    "    if start >= end:  ####탈출조건###\n",
    "        return\n",
    "    \n",
    "    idx_pivot = partition(data, start, end)\n",
    "    \n",
    "    quick_sort(data, start, idx_pivot - 1)\n",
    "    quick_sort(data, idx_pivot + 1, end)"
   ]
  },
  {
   "cell_type": "code",
   "execution_count": 10,
   "metadata": {
    "collapsed": false
   },
   "outputs": [
    {
     "name": "stdout",
     "output_type": "stream",
     "text": [
      "[1, 2, 3, 4, 5, 6, 7, 8, 9, 10, 11, 12, 13, 14]\n",
      "call_of_partition : 7\n"
     ]
    }
   ],
   "source": [
    "if __name__ == \"__main__\":\n",
    "    data = [1, 2, 3, 4, 5, 6, 7, 8, 9, 10, 11, 12, 13, 14]\n",
    "\n",
    "    quick_sort(data, 0, len(data) - 1)\n",
    "\n",
    "    print(data)\n",
    "    print(\"call_of_partition : {}\".format(call_of_partition))\n",
    "    "
   ]
  },
  {
   "cell_type": "code",
   "execution_count": null,
   "metadata": {
    "collapsed": true
   },
   "outputs": [],
   "source": []
  }
 ],
 "metadata": {
  "kernelspec": {
   "display_name": "Python 3",
   "language": "python",
   "name": "python3"
  },
  "language_info": {
   "codemirror_mode": {
    "name": "ipython",
    "version": 3
   },
   "file_extension": ".py",
   "mimetype": "text/x-python",
   "name": "python",
   "nbconvert_exporter": "python",
   "pygments_lexer": "ipython3",
   "version": "3.6.0"
  }
 },
 "nbformat": 4,
 "nbformat_minor": 2
}
