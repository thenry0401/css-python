{
 "cells": [
  {
   "cell_type": "code",
   "execution_count": 1,
   "metadata": {
    "collapsed": true,
    "deletable": true,
    "editable": true
   },
   "outputs": [],
   "source": [
    "def partition(data, start, end):\n",
    "    pivot = data[start]\n",
    "    \n",
    "    low = start + 1\n",
    "    high = end\n",
    "    \n",
    "    # low와 high가 반드시 교차해야 한다\n",
    "    while low <= high:\n",
    "        while low <= end and data[low] <= pivot:\n",
    "            low += 1\n",
    "        while high >= (start + 1) and data[high] >= pivot:\n",
    "            high -= 1\n",
    "        \n",
    "        # 아직 교차 전이라면\n",
    "        if low <= high:\n",
    "            data[low] ,data[high] = data[high], data[low]\n",
    "            \n",
    "    data[start], data[high] = data[high], data[start]\n",
    "    \n",
    "    return high\n",
    "\n",
    "def quick_sort(data, start, end):\n",
    "    if start >= end:  ####탈출조건###\n",
    "        return\n",
    "    \n",
    "    idx_pivot = partition(data, start, end)\n",
    "    \n",
    "    quick_sort(data, start, idx_pivot - 1)\n",
    "    quick_sort(data, idx_pivot + 1, end)\n",
    "        "
   ]
  },
  {
   "cell_type": "code",
   "execution_count": null,
   "metadata": {
    "collapsed": false,
    "deletable": true,
    "editable": true
   },
   "outputs": [],
   "source": []
  },
  {
   "cell_type": "code",
   "execution_count": null,
   "metadata": {
    "collapsed": true,
    "deletable": true,
    "editable": true
   },
   "outputs": [],
   "source": []
  }
 ],
 "metadata": {
  "kernelspec": {
   "display_name": "Python 3",
   "language": "python",
   "name": "python3"
  },
  "language_info": {
   "codemirror_mode": {
    "name": "ipython",
    "version": 3
   },
   "file_extension": ".py",
   "mimetype": "text/x-python",
   "name": "python",
   "nbconvert_exporter": "python",
   "pygments_lexer": "ipython3",
   "version": "3.6.0"
  }
 },
 "nbformat": 4,
 "nbformat_minor": 2
}
