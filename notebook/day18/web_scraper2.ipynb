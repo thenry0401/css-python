{
 "cells": [
  {
   "cell_type": "code",
   "execution_count": 37,
   "metadata": {
    "collapsed": true
   },
   "outputs": [],
   "source": [
    "import urllib\n",
    "from bs4 import BeautifulSoup"
   ]
  },
  {
   "cell_type": "code",
   "execution_count": 43,
   "metadata": {},
   "outputs": [
    {
     "name": "stdout",
     "output_type": "stream",
     "text": [
      "What do you want to find: dog\n",
      "Shumacher CAT XLS Masami http://blog.naver.com/pjaehan?Redirect=Log&logNo=220989500184\n",
      "[돌잡이영어] Mummy Cat? http://bealim5.blog.me/220989329534\n",
      "They all saw a cat http://blog.naver.com/bomsancap?Redirect=Log&logNo=220989025071\n",
      "LG G3 cat6 캣6 공장초기화하는 방법 http://waystation.tistory.com/207\n",
      "재미있는 1인용 게임하기 - Time4Cat http://winterblack.tistory.com/1139\n",
      "20170410-20170412 #사파여행 깟깟마을(cat cat village)투어 http://wlqhd86.blog.me/220983938815\n",
      "CAT카페 다녀온 후기!! http://blog.naver.com/antjs963?Redirect=Log&logNo=220986470751\n",
      "내 어깨 위 고양이, 밥. A Street Cat Named Bob. 2016 http://blog.daum.net/doldu/18327959\n",
      "귀여운 고양이와 강아지 보고 가실래요? DK대백과사전 CAT & DOG http://sciencebooks.tistory.com/1020\n",
      "어떻게 헤어질까 (How to Break up with My Cat, 2016) http://blog.naver.com/every_0?Redirect=Log&logNo=220990707439\n"
     ]
    }
   ],
   "source": [
    "query = input(\"What do you want to find: \")\n",
    "url = \"https://search.naver.com/search.naver?where=post&query=\" + query\n",
    "html = urllib.request.urlopen(url)\n",
    "source = html.read()\n",
    "html.close()\n",
    "\n",
    "soup = BeautifulSoup(source, \"html.parser\")\n",
    "ul = soup.find(id=\"elThumbnailResultArea\")\n",
    "all_li = table.find_all(\"li\")\n",
    "\n",
    "for li in all_li:\n",
    "    dt = li.find(\"dt\")\n",
    "    blog_title = dt.a.get(\"title\")\n",
    "    link = dt.a.get(\"href\")\n",
    "    print(blog_title, link)"
   ]
  },
  {
   "cell_type": "code",
   "execution_count": null,
   "metadata": {
    "collapsed": true
   },
   "outputs": [],
   "source": []
  }
 ],
 "metadata": {
  "kernelspec": {
   "display_name": "Python 3",
   "language": "python",
   "name": "python3"
  },
  "language_info": {
   "codemirror_mode": {
    "name": "ipython",
    "version": 3
   },
   "file_extension": ".py",
   "mimetype": "text/x-python",
   "name": "python",
   "nbconvert_exporter": "python",
   "pygments_lexer": "ipython3",
   "version": "3.6.0"
  }
 },
 "nbformat": 4,
 "nbformat_minor": 2
}
