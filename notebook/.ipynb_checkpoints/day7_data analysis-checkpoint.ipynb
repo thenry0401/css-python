{
 "cells": [
  {
   "cell_type": "code",
   "execution_count": 4,
   "metadata": {
    "collapsed": true
   },
   "outputs": [],
   "source": [
    "from functools import reduce\n",
    "import math #sqrt 함수 쓰기위해\n",
    "import pickle\n",
    "\n",
    "\n",
    "def average(scores): #score = [95, 23, 46, 25]\n",
    "    return reduce(lambda a, b: a + b, scores)/len(scores)\n",
    "\n",
    "def variance(scores, arvg): #scores = [95, 23, 25, 62] avrg = 50, #sum((각 점수 - 평균)**2) / 데이터의 개수\n",
    "     return reduce(lambda a, b: a + b, map(lambda s:(s-avrg)**2, scores))/len(scores)                   \n",
    "\n"
   ]
  },
  {
   "cell_type": "code",
   "execution_count": 53,
   "metadata": {
    "collapsed": false
   },
   "outputs": [],
   "source": [
    "def evaluateClass(avrg, std_dev):\n",
    "    if avrg <50 and std_dev >20:\n",
    "        print(\"성적이 너무 저조하고 학생들의 실력 차이가 너무 크다.\")\n",
    "    elif avrg > 50 and std_dev >20:\n",
    "        print(\"성적은 평균이상이지만 학생들 실력 차이가 크다. 주의 요망!\")\n",
    "    elif avrg < 50 and std_dev <20:\n",
    "        print(\"학생들간 실력차는 나지 않으나 성적이 너무 저조하다. 주의 요망!\")\n",
    "    elif avrg > 50 and std_dev <20:\n",
    "        print(\"성적도 평균 이상이고 학생들의 실력차도 크지 않다.\")\n",
    "\n"
   ]
  },
  {
   "cell_type": "code",
   "execution_count": 29,
   "metadata": {
    "collapsed": true
   },
   "outputs": [],
   "source": [
    "f = open(\"class_A.bin\", \"rb\")"
   ]
  },
  {
   "cell_type": "code",
   "execution_count": 30,
   "metadata": {
    "collapsed": false
   },
   "outputs": [
    {
     "name": "stdout",
     "output_type": "stream",
     "text": [
      "[{'greg': 95}, {'john': 25}, {'yang': 50}, {'timothy': 15}, {'melisa': 100}, {'thor': 10}, {'elen': 25}, {'mark': 80}, {'steve': 95}, {'anna': 20}]\n"
     ]
    }
   ],
   "source": [
    "items = []\n",
    "while True:\n",
    "    try:\n",
    "        data = pickle.load(f)\n",
    "    except EOFError:\n",
    "        break\n",
    "    items.append(data)\n",
    "print(items)    "
   ]
  },
  {
   "cell_type": "code",
   "execution_count": 31,
   "metadata": {
    "collapsed": false
   },
   "outputs": [
    {
     "data": {
      "text/plain": [
       "{'one': 1, 'three': 3, 'two': 2}"
      ]
     },
     "execution_count": 31,
     "metadata": {},
     "output_type": "execute_result"
    }
   ],
   "source": [
    "dic = dict(one=1, two=2, three=3)\n",
    "dic"
   ]
  },
  {
   "cell_type": "code",
   "execution_count": 32,
   "metadata": {
    "collapsed": false
   },
   "outputs": [
    {
     "data": {
      "text/plain": [
       "dict_values([1, 2, 3])"
      ]
     },
     "execution_count": 32,
     "metadata": {},
     "output_type": "execute_result"
    }
   ],
   "source": [
    "dic.values()"
   ]
  },
  {
   "cell_type": "code",
   "execution_count": 33,
   "metadata": {
    "collapsed": false
   },
   "outputs": [
    {
     "data": {
      "text/plain": [
       "[95, 25, 50, 15, 100, 10, 25, 80, 95, 20]"
      ]
     },
     "execution_count": 33,
     "metadata": {},
     "output_type": "execute_result"
    }
   ],
   "source": [
    "scores = []\n",
    "\n",
    "for item in items:\n",
    "    for value in item.values():\n",
    "        scores.append(value)\n",
    "        \n",
    "scores"
   ]
  },
  {
   "cell_type": "code",
   "execution_count": 34,
   "metadata": {
    "collapsed": false
   },
   "outputs": [
    {
     "data": {
      "text/plain": [
       "51.5"
      ]
     },
     "execution_count": 34,
     "metadata": {},
     "output_type": "execute_result"
    }
   ],
   "source": [
    "avrg = average(scores)\n",
    "avrg"
   ]
  },
  {
   "cell_type": "code",
   "execution_count": 35,
   "metadata": {
    "collapsed": false
   },
   "outputs": [
    {
     "data": {
      "text/plain": [
       "1240.2"
      ]
     },
     "execution_count": 35,
     "metadata": {},
     "output_type": "execute_result"
    }
   ],
   "source": [
    "vari = round(variance(scores, avrg),1)\n",
    "vari"
   ]
  },
  {
   "cell_type": "code",
   "execution_count": 36,
   "metadata": {
    "collapsed": false,
    "deletable": true,
    "editable": true
   },
   "outputs": [
    {
     "data": {
      "text/plain": [
       "35.2"
      ]
     },
     "execution_count": 36,
     "metadata": {},
     "output_type": "execute_result"
    }
   ],
   "source": [
    "std_dev = round(math.sqrt(vari),1)\n",
    "std_dev"
   ]
  },
  {
   "cell_type": "code",
   "execution_count": 54,
   "metadata": {
    "collapsed": false
   },
   "outputs": [
    {
     "name": "stdout",
     "output_type": "stream",
     "text": [
      "성적은 평균이상이지만 학생들 실력 차이가 크다. 주의 요망!\n"
     ]
    }
   ],
   "source": [
    "\n",
    "evaluateClass(avrg, std_dev)"
   ]
  },
  {
   "cell_type": "code",
   "execution_count": 51,
   "metadata": {
    "collapsed": false
   },
   "outputs": [
    {
     "name": "stdout",
     "output_type": "stream",
     "text": [
      "12는 재밌어, abc는 싫어\n",
      "내 이름은 greg이고 나이는 18인데 그 나이 18는 사실 거짓말이야\n",
      "18   greg\n",
      "18 greg\n",
      "내 이름은 greg이고 나이는 18인데 그 나이 18는 사실 거짓말이야\n"
     ]
    }
   ],
   "source": [
    "a= 12 \n",
    "b = \"abc\"\n",
    "print(\"{}는 재밌어, {}는 싫어\".format(a,b))\n",
    "age = 18\n",
    "name = \"greg\"\n",
    "print(\"내 이름은 {n}이고 나이는 {a}인데 그 나이 {a}는 사실 거짓말이야\".format(n = name, a = age))\n",
    "\n",
    "print(age, end = \"   \")\n",
    "print(name)\n",
    "print(age,name)\n",
    "\n",
    "print(\"내 이름은 {0}이고 나이는 {1}인데 그 나이 {1}는 사실 거짓말이야\".format(name, age))\n",
    "\n"
   ]
  },
  {
   "cell_type": "code",
   "execution_count": null,
   "metadata": {
    "collapsed": true
   },
   "outputs": [],
   "source": []
  }
 ],
 "metadata": {
  "kernelspec": {
   "display_name": "Python 3",
   "language": "python",
   "name": "python3"
  },
  "language_info": {
   "codemirror_mode": {
    "name": "ipython",
    "version": 3
   },
   "file_extension": ".py",
   "mimetype": "text/x-python",
   "name": "python",
   "nbconvert_exporter": "python",
   "pygments_lexer": "ipython3",
   "version": "3.6.0"
  }
 },
 "nbformat": 4,
 "nbformat_minor": 2
}
