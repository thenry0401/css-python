{
 "cells": [
  {
   "cell_type": "code",
   "execution_count": 1,
   "metadata": {
    "collapsed": false,
    "deletable": true,
    "editable": true
   },
   "outputs": [
    {
     "data": {
      "text/plain": [
       "4"
      ]
     },
     "execution_count": 1,
     "metadata": {},
     "output_type": "execute_result"
    }
   ],
   "source": [
    "# Tuple  You should write comma last number every sentence ex) (1,2,) (1,2,3,) (1,2,3,4,)\n",
    "\n",
    "tuple1 = (1,2,3,4,)\n",
    "len(tuple1)"
   ]
  },
  {
   "cell_type": "code",
   "execution_count": null,
   "metadata": {
    "collapsed": false,
    "deletable": true,
    "editable": true
   },
   "outputs": [],
   "source": [
    "tuple2 = ('python', 'java',)\n",
    "\n",
    "print(tuple1 + tuple2)\n",
    "print(tuple1 + tuple2 * 5)"
   ]
  },
  {
   "cell_type": "code",
   "execution_count": 10,
   "metadata": {
    "collapsed": true,
    "deletable": true,
    "editable": true
   },
   "outputs": [],
   "source": [
    "sw_x = 1\n",
    "sw_y = 'python'"
   ]
  },
  {
   "cell_type": "code",
   "execution_count": 5,
   "metadata": {
    "collapsed": false,
    "deletable": true,
    "editable": true
   },
   "outputs": [
    {
     "name": "stdout",
     "output_type": "stream",
     "text": [
      "1 1\n"
     ]
    }
   ],
   "source": [
    "sw_y = sw_x\n",
    "sw_x = sw_y\n",
    "print(sw_x, sw_y)"
   ]
  },
  {
   "cell_type": "code",
   "execution_count": 7,
   "metadata": {
    "collapsed": false,
    "deletable": true,
    "editable": true
   },
   "outputs": [
    {
     "name": "stdout",
     "output_type": "stream",
     "text": [
      "python 1\n"
     ]
    }
   ],
   "source": [
    "temp = sw_x\n",
    "sw_x = sw_y\n",
    "sw_y = temp\n",
    "print(sw_x, sw_y)"
   ]
  },
  {
   "cell_type": "code",
   "execution_count": 12,
   "metadata": {
    "collapsed": false,
    "deletable": true,
    "editable": true
   },
   "outputs": [
    {
     "name": "stdout",
     "output_type": "stream",
     "text": [
      "1 python\n"
     ]
    }
   ],
   "source": [
    "(sw_y, sw_x) = (sw_x, sw_y)\n",
    "print(sw_x, sw_y)"
   ]
  },
  {
   "cell_type": "code",
   "execution_count": 20,
   "metadata": {
    "collapsed": false,
    "deletable": true,
    "editable": true
   },
   "outputs": [
    {
     "name": "stdout",
     "output_type": "stream",
     "text": [
      "3 1\n",
      "1\n",
      "1\n"
     ]
    }
   ],
   "source": [
    "def quot_and_rem(a,b):\n",
    "    quot = a // b\n",
    "    rem = a % b\n",
    "    return (quot, rem)\n",
    "\n",
    "(quot, rem) = quot_and_rem(10,3)\n",
    "print(quot, rem)\n",
    "\n",
    "print(rem)\n",
    "\n",
    "x = quot - rem * 2\n",
    "print(x)"
   ]
  },
  {
   "cell_type": "code",
   "execution_count": 21,
   "metadata": {
    "collapsed": false,
    "deletable": true,
    "editable": true
   },
   "outputs": [
    {
     "name": "stdout",
     "output_type": "stream",
     "text": [
      "{'name': 'foo bar'}\n"
     ]
    }
   ],
   "source": [
    "dict1 = {}\n",
    "dict1 = {'name': 'foo bar',}\n",
    "\n",
    "print(dict1)"
   ]
  },
  {
   "cell_type": "code",
   "execution_count": 27,
   "metadata": {
    "collapsed": false,
    "deletable": true,
    "editable": true
   },
   "outputs": [
    {
     "name": "stdout",
     "output_type": "stream",
     "text": [
      "{'korean': 70, 'math': 80, 'science': [50, 80, 25, 100]}\n",
      "{'korean': 70, 'math': 80, 'science': [50, 80, 25, 100], 'english': 'pass'}\n"
     ]
    }
   ],
   "source": [
    "score = {'korean': 70, 'math': 80, 'science': [50, 80, 25, 100],}\n",
    "print(score)\n",
    "\n",
    "score['english'] = \"pass\"\n",
    "print(score)"
   ]
  },
  {
   "cell_type": "code",
   "execution_count": 28,
   "metadata": {
    "collapsed": false,
    "deletable": true,
    "editable": true
   },
   "outputs": [
    {
     "name": "stdout",
     "output_type": "stream",
     "text": [
      "{'korean': 70, 'science': [50, 80, 25, 100], 'english': 'pass'}\n"
     ]
    }
   ],
   "source": [
    "del score['math']\n",
    "print(score)"
   ]
  },
  {
   "cell_type": "code",
   "execution_count": 32,
   "metadata": {
    "collapsed": false,
    "deletable": true,
    "editable": true
   },
   "outputs": [
    {
     "name": "stdout",
     "output_type": "stream",
     "text": [
      "70\n",
      "dict_keys(['korean', 'science', 'english'])\n",
      "dict_values([70, [50, 80, 25, 100], 'pass'])\n",
      "dict_items([('korean', 70), ('science', [50, 80, 25, 100]), ('english', 'pass')])\n"
     ]
    }
   ],
   "source": [
    "print(score['korean'])\n",
    "print(score.keys())\n",
    "\n",
    "print(score.values())\n",
    "\n",
    "print(score.items())"
   ]
  },
  {
   "cell_type": "code",
   "execution_count": null,
   "metadata": {
    "collapsed": false,
    "deletable": true,
    "editable": true
   },
   "outputs": [],
   "source": [
    "n = -4\n",
    "if n > 10: \n",
    "    print('n is more than 10')\n",
    "elif n > 5:\n",
    "    print('n is more than 5')\n",
    "elif n < 0:\n",
    "    print('n is negative value')\n",
    "else:\n",
    "    print('n is less than 5')\n",
    "\n",
    "    "
   ]
  },
  {
   "cell_type": "code",
   "execution_count": 2,
   "metadata": {
    "collapsed": false,
    "deletable": true,
    "editable": true
   },
   "outputs": [
    {
     "name": "stdout",
     "output_type": "stream",
     "text": [
      "88\n",
      "Waht is your name? Hoon\n",
      "Hi, Hoon, guess the number: 9\n",
      "That's not what I wanted!! The answer was  88\n",
      "You are wrong.\n"
     ]
    }
   ],
   "source": [
    "import random\n",
    "\n",
    "\n",
    "answer = random.randint(1,100)\n",
    "print(answer)\n",
    "\n",
    "username = input(\"Waht is your name? \")\n",
    "guess = eval(input(\"Hi, \" + username + \", guess the number: \"))\n",
    "\n",
    "if guess == answer:\n",
    "    print(\"Correct! The answer was \", str(answer))\n",
    "else:\n",
    "    print(\"That's not what I wanted!! The answer was \", str(answer))\n",
    "    \n",
    "if guess == answer:\n",
    "    print(\"Correct!\")\n",
    "else:\n",
    "    print(\"You are wrong.\")"
   ]
  },
  {
   "cell_type": "code",
   "execution_count": null,
   "metadata": {
    "collapsed": true,
    "deletable": true,
    "editable": true
   },
   "outputs": [],
   "source": []
  }
 ],
 "metadata": {
  "kernelspec": {
   "display_name": "Python 3",
   "language": "python",
   "name": "python3"
  },
  "language_info": {
   "codemirror_mode": {
    "name": "ipython",
    "version": 3
   },
   "file_extension": ".py",
   "mimetype": "text/x-python",
   "name": "python",
   "nbconvert_exporter": "python",
   "pygments_lexer": "ipython3",
   "version": "3.6.0"
  }
 },
 "nbformat": 4,
 "nbformat_minor": 2
}
